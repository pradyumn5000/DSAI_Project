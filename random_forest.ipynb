{
 "cells": [
  {
   "cell_type": "code",
   "execution_count": 1,
   "id": "e25b881d",
   "metadata": {},
   "outputs": [],
   "source": [
    "# DataFrame\n",
    "import pandas as pd\n",
    "\n",
    "# Scikit-learn\n",
    "from sklearn.model_selection import train_test_split\n",
    "from sklearn.ensemble import RandomForestRegressor\n",
    "from sklearn.metrics import confusion_matrix, classification_report, accuracy_score\n",
    "from sklearn.metrics import mean_absolute_error,mean_squared_error\n",
    "\n",
    "# Matplot\n",
    "import matplotlib.pyplot as plt\n",
    "\n",
    "# Utility\n",
    "import numpy as np"
   ]
  },
  {
   "cell_type": "code",
   "execution_count": 2,
   "id": "8776dc2b",
   "metadata": {},
   "outputs": [
    {
     "data": {
      "text/html": [
       "<div>\n",
       "<style scoped>\n",
       "    .dataframe tbody tr th:only-of-type {\n",
       "        vertical-align: middle;\n",
       "    }\n",
       "\n",
       "    .dataframe tbody tr th {\n",
       "        vertical-align: top;\n",
       "    }\n",
       "\n",
       "    .dataframe thead th {\n",
       "        text-align: right;\n",
       "    }\n",
       "</style>\n",
       "<table border=\"1\" class=\"dataframe\">\n",
       "  <thead>\n",
       "    <tr style=\"text-align: right;\">\n",
       "      <th></th>\n",
       "      <th>album_name</th>\n",
       "      <th>release_date</th>\n",
       "      <th>artist_name</th>\n",
       "      <th>explicit</th>\n",
       "      <th>song_name</th>\n",
       "      <th>lyrics</th>\n",
       "      <th>language</th>\n",
       "      <th>album_total_tracks</th>\n",
       "      <th>duration_ms</th>\n",
       "      <th>popularity</th>\n",
       "      <th>...</th>\n",
       "      <th>mode</th>\n",
       "      <th>speechiness</th>\n",
       "      <th>acousticness</th>\n",
       "      <th>instrumentalness</th>\n",
       "      <th>liveness</th>\n",
       "      <th>valence</th>\n",
       "      <th>tempo</th>\n",
       "      <th>time_signature</th>\n",
       "      <th>artist_songs</th>\n",
       "      <th>artist_popularity</th>\n",
       "    </tr>\n",
       "  </thead>\n",
       "  <tbody>\n",
       "    <tr>\n",
       "      <th>0</th>\n",
       "      <td>÷ (Deluxe)</td>\n",
       "      <td>2017-03-03</td>\n",
       "      <td>ed sheeran</td>\n",
       "      <td>False</td>\n",
       "      <td>Galway Girl</td>\n",
       "      <td>She played the fiddle in an Irish band\\nBut sh...</td>\n",
       "      <td>en</td>\n",
       "      <td>0.168539</td>\n",
       "      <td>0.040946</td>\n",
       "      <td>0.870968</td>\n",
       "      <td>...</td>\n",
       "      <td>1.0</td>\n",
       "      <td>0.171295</td>\n",
       "      <td>0.075069</td>\n",
       "      <td>0.000000</td>\n",
       "      <td>0.332754</td>\n",
       "      <td>0.791490</td>\n",
       "      <td>0.308951</td>\n",
       "      <td>0.75</td>\n",
       "      <td>0.277027</td>\n",
       "      <td>0.845185</td>\n",
       "    </tr>\n",
       "    <tr>\n",
       "      <th>1</th>\n",
       "      <td>Camila</td>\n",
       "      <td>2018-01-12</td>\n",
       "      <td>camila cabello</td>\n",
       "      <td>False</td>\n",
       "      <td>Havana (feat. Young Thug)</td>\n",
       "      <td>Hey\\nHavana, ooh na-na (ay)\\nHalf of my heart ...</td>\n",
       "      <td>en</td>\n",
       "      <td>0.112360</td>\n",
       "      <td>0.093116</td>\n",
       "      <td>0.903226</td>\n",
       "      <td>...</td>\n",
       "      <td>1.0</td>\n",
       "      <td>0.015774</td>\n",
       "      <td>0.187940</td>\n",
       "      <td>0.000039</td>\n",
       "      <td>0.120843</td>\n",
       "      <td>0.381880</td>\n",
       "      <td>0.341004</td>\n",
       "      <td>0.75</td>\n",
       "      <td>0.085135</td>\n",
       "      <td>0.340000</td>\n",
       "    </tr>\n",
       "    <tr>\n",
       "      <th>2</th>\n",
       "      <td>Unorthodox Jukebox</td>\n",
       "      <td>2012-12-07</td>\n",
       "      <td>bruno mars</td>\n",
       "      <td>False</td>\n",
       "      <td>When I Was Your Man</td>\n",
       "      <td>Same bed, but it feels just\\nA little bit bigg...</td>\n",
       "      <td>en</td>\n",
       "      <td>0.101124</td>\n",
       "      <td>0.089210</td>\n",
       "      <td>0.935484</td>\n",
       "      <td>...</td>\n",
       "      <td>1.0</td>\n",
       "      <td>0.045545</td>\n",
       "      <td>0.951991</td>\n",
       "      <td>0.000000</td>\n",
       "      <td>0.073028</td>\n",
       "      <td>0.374471</td>\n",
       "      <td>0.136466</td>\n",
       "      <td>0.75</td>\n",
       "      <td>0.139189</td>\n",
       "      <td>0.462222</td>\n",
       "    </tr>\n",
       "    <tr>\n",
       "      <th>3</th>\n",
       "      <td>Red (Deluxe Edition)</td>\n",
       "      <td>2012-10-22</td>\n",
       "      <td>taylor swift</td>\n",
       "      <td>False</td>\n",
       "      <td>We Are Never Ever Getting Back Together</td>\n",
       "      <td>I remember when we broke up, the first time\\nS...</td>\n",
       "      <td>en</td>\n",
       "      <td>0.235955</td>\n",
       "      <td>0.064576</td>\n",
       "      <td>0.591398</td>\n",
       "      <td>...</td>\n",
       "      <td>1.0</td>\n",
       "      <td>0.152633</td>\n",
       "      <td>0.009767</td>\n",
       "      <td>0.000029</td>\n",
       "      <td>0.088242</td>\n",
       "      <td>0.758679</td>\n",
       "      <td>0.220263</td>\n",
       "      <td>0.75</td>\n",
       "      <td>0.497297</td>\n",
       "      <td>0.537778</td>\n",
       "    </tr>\n",
       "    <tr>\n",
       "      <th>4</th>\n",
       "      <td>V</td>\n",
       "      <td>2014-09-02</td>\n",
       "      <td>maroon 5</td>\n",
       "      <td>True</td>\n",
       "      <td>Sugar</td>\n",
       "      <td>I'm hurting baby, I'm broken down\\nI need your...</td>\n",
       "      <td>en</td>\n",
       "      <td>0.123596</td>\n",
       "      <td>0.113528</td>\n",
       "      <td>0.903226</td>\n",
       "      <td>...</td>\n",
       "      <td>1.0</td>\n",
       "      <td>0.023328</td>\n",
       "      <td>0.060360</td>\n",
       "      <td>0.000000</td>\n",
       "      <td>0.071180</td>\n",
       "      <td>0.900508</td>\n",
       "      <td>0.436865</td>\n",
       "      <td>0.75</td>\n",
       "      <td>0.201351</td>\n",
       "      <td>0.473333</td>\n",
       "    </tr>\n",
       "  </tbody>\n",
       "</table>\n",
       "<p>5 rows × 24 columns</p>\n",
       "</div>"
      ],
      "text/plain": [
       "             album_name release_date     artist_name  explicit  \\\n",
       "0            ÷ (Deluxe)   2017-03-03      ed sheeran     False   \n",
       "1                Camila   2018-01-12  camila cabello     False   \n",
       "2    Unorthodox Jukebox   2012-12-07      bruno mars     False   \n",
       "3  Red (Deluxe Edition)   2012-10-22    taylor swift     False   \n",
       "4                     V   2014-09-02        maroon 5      True   \n",
       "\n",
       "                                 song_name  \\\n",
       "0                              Galway Girl   \n",
       "1                Havana (feat. Young Thug)   \n",
       "2                      When I Was Your Man   \n",
       "3  We Are Never Ever Getting Back Together   \n",
       "4                                    Sugar   \n",
       "\n",
       "                                              lyrics language  \\\n",
       "0  She played the fiddle in an Irish band\\nBut sh...       en   \n",
       "1  Hey\\nHavana, ooh na-na (ay)\\nHalf of my heart ...       en   \n",
       "2  Same bed, but it feels just\\nA little bit bigg...       en   \n",
       "3  I remember when we broke up, the first time\\nS...       en   \n",
       "4  I'm hurting baby, I'm broken down\\nI need your...       en   \n",
       "\n",
       "   album_total_tracks  duration_ms  popularity  ...  mode  speechiness  \\\n",
       "0            0.168539     0.040946    0.870968  ...   1.0     0.171295   \n",
       "1            0.112360     0.093116    0.903226  ...   1.0     0.015774   \n",
       "2            0.101124     0.089210    0.935484  ...   1.0     0.045545   \n",
       "3            0.235955     0.064576    0.591398  ...   1.0     0.152633   \n",
       "4            0.123596     0.113528    0.903226  ...   1.0     0.023328   \n",
       "\n",
       "   acousticness  instrumentalness  liveness   valence     tempo  \\\n",
       "0      0.075069          0.000000  0.332754  0.791490  0.308951   \n",
       "1      0.187940          0.000039  0.120843  0.381880  0.341004   \n",
       "2      0.951991          0.000000  0.073028  0.374471  0.136466   \n",
       "3      0.009767          0.000029  0.088242  0.758679  0.220263   \n",
       "4      0.060360          0.000000  0.071180  0.900508  0.436865   \n",
       "\n",
       "   time_signature  artist_songs  artist_popularity  \n",
       "0            0.75      0.277027           0.845185  \n",
       "1            0.75      0.085135           0.340000  \n",
       "2            0.75      0.139189           0.462222  \n",
       "3            0.75      0.497297           0.537778  \n",
       "4            0.75      0.201351           0.473333  \n",
       "\n",
       "[5 rows x 24 columns]"
      ]
     },
     "execution_count": 2,
     "metadata": {},
     "output_type": "execute_result"
    }
   ],
   "source": [
    "#Importing Datasets\n",
    "data = pd.read_csv('Datasets/cleaned_data.csv')\n",
    "data = data.drop(['Unnamed: 0'], axis = 1)\n",
    "data.head(5)"
   ]
  },
  {
   "cell_type": "markdown",
   "id": "b3bbbe94",
   "metadata": {},
   "source": [
    "## Machine learning model - Random Forest Regression"
   ]
  },
  {
   "cell_type": "code",
   "execution_count": 3,
   "id": "f4400e48",
   "metadata": {},
   "outputs": [
    {
     "name": "stdout",
     "output_type": "stream",
     "text": [
      "<class 'pandas.core.frame.DataFrame'>\n",
      "RangeIndex: 1266 entries, 0 to 1265\n",
      "Data columns (total 17 columns):\n",
      " #   Column              Non-Null Count  Dtype  \n",
      "---  ------              --------------  -----  \n",
      " 0   album_total_tracks  1266 non-null   float64\n",
      " 1   duration_ms         1266 non-null   float64\n",
      " 2   popularity          1266 non-null   float64\n",
      " 3   danceability        1266 non-null   float64\n",
      " 4   energy              1266 non-null   float64\n",
      " 5   key                 1266 non-null   float64\n",
      " 6   loudness            1266 non-null   float64\n",
      " 7   mode                1266 non-null   float64\n",
      " 8   speechiness         1266 non-null   float64\n",
      " 9   acousticness        1266 non-null   float64\n",
      " 10  instrumentalness    1266 non-null   float64\n",
      " 11  liveness            1266 non-null   float64\n",
      " 12  valence             1266 non-null   float64\n",
      " 13  tempo               1266 non-null   float64\n",
      " 14  time_signature      1266 non-null   float64\n",
      " 15  artist_songs        1266 non-null   float64\n",
      " 16  artist_popularity   1266 non-null   float64\n",
      "dtypes: float64(17)\n",
      "memory usage: 168.3 KB\n"
     ]
    }
   ],
   "source": [
    "# making a new dataset with only numerical data\n",
    "numer_data = data.select_dtypes(include=['float64','int64'])\n",
    "numer_data.info()"
   ]
  },
  {
   "cell_type": "code",
   "execution_count": 4,
   "id": "5a142fba",
   "metadata": {},
   "outputs": [
    {
     "name": "stderr",
     "output_type": "stream",
     "text": [
      "/Users/pradyumn/opt/anaconda3/lib/python3.9/site-packages/pandas/core/frame.py:4906: SettingWithCopyWarning: \n",
      "A value is trying to be set on a copy of a slice from a DataFrame\n",
      "\n",
      "See the caveats in the documentation: https://pandas.pydata.org/pandas-docs/stable/user_guide/indexing.html#returning-a-view-versus-a-copy\n",
      "  return super().drop(\n"
     ]
    }
   ],
   "source": [
    "# y is popularity, independent variable\n",
    "# x is dependent variable\n",
    "\n",
    "y = numer_data[\"popularity\"]\n",
    "x = numer_data\n",
    "x.drop(\"popularity\", inplace=True, axis=1)"
   ]
  },
  {
   "cell_type": "code",
   "execution_count": 5,
   "id": "3a0d9f55",
   "metadata": {},
   "outputs": [],
   "source": [
    "# Splitting into train and test sets\n",
    "X_train, X_test, y_train, y_test = train_test_split(x, y, test_size = 0.2, random_state=42)"
   ]
  },
  {
   "cell_type": "code",
   "execution_count": 6,
   "id": "cfbc009f",
   "metadata": {},
   "outputs": [
    {
     "data": {
      "text/plain": [
       "RandomForestRegressor(n_estimators=50)"
      ]
     },
     "execution_count": 6,
     "metadata": {},
     "output_type": "execute_result"
    }
   ],
   "source": [
    "regressor = RandomForestRegressor(n_estimators = 50) #n_estimators can be up to max 100\n",
    "regressor.fit(X_train, y_train)"
   ]
  },
  {
   "cell_type": "code",
   "execution_count": 7,
   "id": "170a35af",
   "metadata": {},
   "outputs": [],
   "source": [
    "y_pred = regressor.predict(X_test)"
   ]
  },
  {
   "cell_type": "code",
   "execution_count": 8,
   "id": "ce0135b1",
   "metadata": {},
   "outputs": [
    {
     "data": {
      "text/html": [
       "<div>\n",
       "<style scoped>\n",
       "    .dataframe tbody tr th:only-of-type {\n",
       "        vertical-align: middle;\n",
       "    }\n",
       "\n",
       "    .dataframe tbody tr th {\n",
       "        vertical-align: top;\n",
       "    }\n",
       "\n",
       "    .dataframe thead th {\n",
       "        text-align: right;\n",
       "    }\n",
       "</style>\n",
       "<table border=\"1\" class=\"dataframe\">\n",
       "  <thead>\n",
       "    <tr style=\"text-align: right;\">\n",
       "      <th></th>\n",
       "      <th>Real Values</th>\n",
       "      <th>Predicted Values</th>\n",
       "    </tr>\n",
       "  </thead>\n",
       "  <tbody>\n",
       "    <tr>\n",
       "      <th>1210</th>\n",
       "      <td>0.301075</td>\n",
       "      <td>0.647312</td>\n",
       "    </tr>\n",
       "    <tr>\n",
       "      <th>1039</th>\n",
       "      <td>0.666667</td>\n",
       "      <td>0.520430</td>\n",
       "    </tr>\n",
       "    <tr>\n",
       "      <th>422</th>\n",
       "      <td>0.709677</td>\n",
       "      <td>0.618280</td>\n",
       "    </tr>\n",
       "    <tr>\n",
       "      <th>1118</th>\n",
       "      <td>0.010753</td>\n",
       "      <td>0.495054</td>\n",
       "    </tr>\n",
       "    <tr>\n",
       "      <th>848</th>\n",
       "      <td>0.645161</td>\n",
       "      <td>0.660860</td>\n",
       "    </tr>\n",
       "    <tr>\n",
       "      <th>...</th>\n",
       "      <td>...</td>\n",
       "      <td>...</td>\n",
       "    </tr>\n",
       "    <tr>\n",
       "      <th>163</th>\n",
       "      <td>0.795699</td>\n",
       "      <td>0.710968</td>\n",
       "    </tr>\n",
       "    <tr>\n",
       "      <th>486</th>\n",
       "      <td>0.688172</td>\n",
       "      <td>0.717634</td>\n",
       "    </tr>\n",
       "    <tr>\n",
       "      <th>624</th>\n",
       "      <td>0.698925</td>\n",
       "      <td>0.720645</td>\n",
       "    </tr>\n",
       "    <tr>\n",
       "      <th>221</th>\n",
       "      <td>0.537634</td>\n",
       "      <td>0.672043</td>\n",
       "    </tr>\n",
       "    <tr>\n",
       "      <th>243</th>\n",
       "      <td>0.569892</td>\n",
       "      <td>0.646882</td>\n",
       "    </tr>\n",
       "  </tbody>\n",
       "</table>\n",
       "<p>254 rows × 2 columns</p>\n",
       "</div>"
      ],
      "text/plain": [
       "      Real Values  Predicted Values\n",
       "1210     0.301075          0.647312\n",
       "1039     0.666667          0.520430\n",
       "422      0.709677          0.618280\n",
       "1118     0.010753          0.495054\n",
       "848      0.645161          0.660860\n",
       "...           ...               ...\n",
       "163      0.795699          0.710968\n",
       "486      0.688172          0.717634\n",
       "624      0.698925          0.720645\n",
       "221      0.537634          0.672043\n",
       "243      0.569892          0.646882\n",
       "\n",
       "[254 rows x 2 columns]"
      ]
     },
     "execution_count": 8,
     "metadata": {},
     "output_type": "execute_result"
    }
   ],
   "source": [
    "df = pd.DataFrame({'Real Values':y_test, 'Predicted Values':y_pred})\n",
    "df"
   ]
  },
  {
   "cell_type": "code",
   "execution_count": 9,
   "id": "3504bcb2",
   "metadata": {},
   "outputs": [
    {
     "data": {
      "text/plain": [
       "0.14999745999492"
      ]
     },
     "execution_count": 9,
     "metadata": {},
     "output_type": "execute_result"
    }
   ],
   "source": [
    "mean_absolute_error(y_test, y_pred)"
   ]
  },
  {
   "cell_type": "code",
   "execution_count": 10,
   "id": "768e2c5d",
   "metadata": {},
   "outputs": [
    {
     "data": {
      "text/plain": [
       "0.2116023316533383"
      ]
     },
     "execution_count": 10,
     "metadata": {},
     "output_type": "execute_result"
    }
   ],
   "source": [
    "np.sqrt(mean_squared_error(y_test, y_pred))"
   ]
  },
  {
   "cell_type": "markdown",
   "id": "2a603699",
   "metadata": {},
   "source": [
    "## CODE FOR RANDOM FOREST VARIABLE IMPORTANCE"
   ]
  },
  {
   "cell_type": "code",
   "execution_count": 11,
   "id": "9eae499a",
   "metadata": {},
   "outputs": [
    {
     "name": "stdout",
     "output_type": "stream",
     "text": [
      "Feature: album_total_tracks    Score: 0.0785\n",
      "Feature: duration_ms           Score: 0.0581\n",
      "Feature: danceability          Score: 0.0972\n",
      "Feature: energy                Score: 0.06379\n",
      "Feature: key                   Score: 0.03645\n",
      "Feature: loudness              Score: 0.05139\n",
      "Feature: mode                  Score: 0.00526\n",
      "Feature: speechiness           Score: 0.10634\n",
      "Feature: acousticness          Score: 0.07171\n",
      "Feature: instrumentalness      Score: 0.0484\n",
      "Feature: liveness              Score: 0.06016\n",
      "Feature: valence               Score: 0.06731\n",
      "Feature: tempo                 Score: 0.06971\n",
      "Feature: time_signature        Score: 0.00574\n",
      "Feature: artist_songs          Score: 0.07954\n",
      "Feature: artist_popularity     Score: 0.10038\n"
     ]
    },
    {
     "data": {
      "image/png": "[encoded data removed]",
      "text/plain": [
       "<Figure size 1800x576 with 1 Axes>"
      ]
     },
     "metadata": {
      "needs_background": "light"
     },
     "output_type": "display_data"
    }
   ],
   "source": [
    "# get importance\n",
    "importance = regressor.feature_importances_\n",
    "# summarize feature importance\n",
    "f = plt.figure(figsize=(25, 8))\n",
    "feat_score = []\n",
    "\n",
    "for i,v in enumerate(importance):\n",
    "    feat_score.append(round(v,5))\n",
    "y = 0\n",
    "for x in X_train:\n",
    "    print(f\"{'Feature: '+ x:<30} Score: {feat_score[y]}\")\n",
    "    y+=1    \n",
    "\n",
    "# plot feature importance\n",
    "plt.bar([x for x in X_train], importance)\n",
    "plt.show()\n"
   ]
  },
  {
   "cell_type": "code",
   "execution_count": null,
   "id": "938153ce",
   "metadata": {},
   "outputs": [],
   "source": []
  }
 ],
 "metadata": {
  "kernelspec": {
   "display_name": "Python 3 (ipykernel)",
   "language": "python",
   "name": "python3"
  },
  "language_info": {
   "codemirror_mode": {
    "name": "ipython",
    "version": 3
   },
   "file_extension": ".py",
   "mimetype": "text/x-python",
   "name": "python",
   "nbconvert_exporter": "python",
   "pygments_lexer": "ipython3",
   "version": "3.9.7"
  }
 },
 "nbformat": 4,
 "nbformat_minor": 5
}
