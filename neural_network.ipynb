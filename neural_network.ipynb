{
 "cells": [
  {
   "cell_type": "code",
   "execution_count": 1,
   "id": "b6bda306",
   "metadata": {},
   "outputs": [],
   "source": [
    "# DataFrame\n",
    "import pandas as pd\n",
    "\n",
    "# Matplot\n",
    "import matplotlib.pyplot as plt\n",
    "%matplotlib inline\n",
    "\n",
    "# Scikit-learn\n",
    "from sklearn.model_selection import train_test_split\n",
    "from sklearn.metrics import confusion_matrix, classification_report, accuracy_score\n",
    "from sklearn.metrics import mean_absolute_error,mean_squared_error\n",
    "\n",
    "\n",
    "# Keras\n",
    "from keras.models import Sequential\n",
    "from keras.layers import Activation, Dense, Dropout, Embedding, Flatten, Conv1D, MaxPooling1D, LSTM\n",
    "from keras.callbacks import EarlyStopping\n",
    "from keras import utils\n",
    "\n",
    "# Utility\n",
    "import numpy as np\n",
    "import time"
   ]
  },
  {
   "cell_type": "code",
   "execution_count": 2,
   "id": "79154764",
   "metadata": {},
   "outputs": [],
   "source": [
    "#Importing Dataset\n",
    "data = pd.read_csv('Datasets/cleaned_data.csv')\n",
    "data = data.drop(['Unnamed: 0'], axis = 1)"
   ]
  },
  {
   "cell_type": "code",
   "execution_count": 3,
   "id": "04978c91",
   "metadata": {},
   "outputs": [
    {
     "name": "stdout",
     "output_type": "stream",
     "text": [
      "<class 'pandas.core.frame.DataFrame'>\n",
      "RangeIndex: 1605 entries, 0 to 1604\n",
      "Data columns (total 15 columns):\n",
      " #   Column            Non-Null Count  Dtype  \n",
      "---  ------            --------------  -----  \n",
      " 0   total_tracks      1605 non-null   float64\n",
      " 1   duration_ms       1605 non-null   float64\n",
      " 2   popularity        1605 non-null   float64\n",
      " 3   danceability      1605 non-null   float64\n",
      " 4   energy            1605 non-null   float64\n",
      " 5   key               1605 non-null   float64\n",
      " 6   loudness          1605 non-null   float64\n",
      " 7   mode              1605 non-null   float64\n",
      " 8   speechiness       1605 non-null   float64\n",
      " 9   acousticness      1605 non-null   float64\n",
      " 10  instrumentalness  1605 non-null   float64\n",
      " 11  liveness          1605 non-null   float64\n",
      " 12  valence           1605 non-null   float64\n",
      " 13  tempo             1605 non-null   float64\n",
      " 14  time_signature    1605 non-null   float64\n",
      "dtypes: float64(15)\n",
      "memory usage: 188.2 KB\n"
     ]
    }
   ],
   "source": [
    "# making a new dataset with only numerical data\n",
    "numer_data = data.select_dtypes(include=['float64','int64'])\n",
    "numer_data.info()"
   ]
  },
  {
   "cell_type": "markdown",
   "id": "3772f353",
   "metadata": {},
   "source": [
    "## Machine Learning model - Neural Network"
   ]
  },
  {
   "cell_type": "code",
   "execution_count": 4,
   "id": "2deeb3ee",
   "metadata": {},
   "outputs": [
    {
     "name": "stdout",
     "output_type": "stream",
     "text": [
      "TRAIN size: 1284\n",
      "TEST size: 321\n"
     ]
    }
   ],
   "source": [
    "# Split into train and test dataset.\n",
    "data_train, data_test = train_test_split(numer_data, test_size=0.2, random_state=42)\n",
    "print(\"TRAIN size:\", len(data_train))\n",
    "print(\"TEST size:\", len(data_test))"
   ]
  },
  {
   "cell_type": "code",
   "execution_count": 5,
   "id": "7930fad9",
   "metadata": {},
   "outputs": [
    {
     "data": {
      "text/plain": [
       "array([[0.15730337, 0.09964049, 0.51372998, ..., 0.07922191, 0.73766722,\n",
       "        0.19585245],\n",
       "       [0.15730337, 0.11664177, 0.86498856, ..., 0.32297327, 0.84009197,\n",
       "        0.21596757],\n",
       "       [0.        , 0.0158407 , 0.5778032 , ..., 0.09910889, 0.61747492,\n",
       "        0.74232817],\n",
       "       ...,\n",
       "       [0.06741573, 0.01706077, 0.55949657, ..., 0.07063682, 0.18373746,\n",
       "        0.52616999],\n",
       "       [0.12359551, 0.13909014, 0.20251716, ..., 0.15018474, 0.20150502,\n",
       "        0.2587964 ],\n",
       "       [0.        , 0.10395394, 0.67048055, ..., 0.02814606, 0.61433946,\n",
       "        0.47431287]])"
      ]
     },
     "execution_count": 5,
     "metadata": {},
     "output_type": "execute_result"
    }
   ],
   "source": [
    "x_train = data_train.drop(['popularity', 'time_signature'], axis = 1).values\n",
    "x_train"
   ]
  },
  {
   "cell_type": "code",
   "execution_count": 6,
   "id": "aef8ae3b",
   "metadata": {},
   "outputs": [
    {
     "data": {
      "text/plain": [
       "array([[0.12359551, 0.13789252, 0.3604119 , ..., 0.13605738, 0.4868311 ,\n",
       "        0.50039392],\n",
       "       [0.31460674, 0.11990352, 0.21853547, ..., 0.24581613, 0.31229097,\n",
       "        0.27583008],\n",
       "       [0.12359551, 0.08965882, 0.63386728, ..., 0.00652032, 0.94042642,\n",
       "        0.24561927],\n",
       "       ...,\n",
       "       [0.19101124, 0.1286292 , 0.43592677, ..., 0.11649641, 0.51400502,\n",
       "        0.19023597],\n",
       "       [0.08988764, 0.2032622 , 0.13501144, ..., 0.10128233, 0.00668896,\n",
       "        0.49878013],\n",
       "       [0.        , 0.04507634, 0.60755149, ..., 0.33166703, 0.5882107 ,\n",
       "        0.67628372]])"
      ]
     },
     "execution_count": 6,
     "metadata": {},
     "output_type": "execute_result"
    }
   ],
   "source": [
    "x_test = data_test.drop(['popularity', 'time_signature'], axis = 1).values\n",
    "x_test"
   ]
  },
  {
   "cell_type": "code",
   "execution_count": 7,
   "id": "38e14e22",
   "metadata": {},
   "outputs": [
    {
     "data": {
      "text/plain": [
       "array([0.7311828 , 0.68817204, 0.70967742, ..., 0.38709677, 0.7311828 ,\n",
       "       0.29032258])"
      ]
     },
     "execution_count": 7,
     "metadata": {},
     "output_type": "execute_result"
    }
   ],
   "source": [
    "y_train = data_train['popularity'].values\n",
    "y_train"
   ]
  },
  {
   "cell_type": "code",
   "execution_count": 8,
   "id": "0643e794",
   "metadata": {},
   "outputs": [
    {
     "data": {
      "text/plain": [
       "array([0.79569892, 0.6344086 , 0.80645161, 0.        , 0.6344086 ,\n",
       "       0.83870968, 0.58064516, 0.52688172, 0.56989247, 0.8172043 ,\n",
       "       0.55913978, 0.07526882, 0.35483871, 0.37634409, 0.41935484,\n",
       "       0.67741935, 0.90322581, 0.46236559, 0.8172043 , 0.78494624,\n",
       "       0.75268817, 0.92473118, 0.47311828, 0.50537634, 0.75268817,\n",
       "       0.62365591, 0.91397849, 0.5483871 , 0.49462366, 0.64516129,\n",
       "       0.89247312, 0.66666667, 0.67741935, 0.70967742, 0.68817204,\n",
       "       0.68817204, 0.03225806, 0.50537634, 0.84946237, 0.68817204,\n",
       "       0.49462366, 0.83870968, 0.74193548, 0.65591398, 0.62365591,\n",
       "       0.88172043, 0.61290323, 0.72043011, 0.67741935, 0.53763441,\n",
       "       0.51612903, 0.78494624, 0.53763441, 0.61290323, 0.34408602,\n",
       "       0.70967742, 0.56989247, 0.75268817, 0.7311828 , 0.27956989,\n",
       "       0.13978495, 0.74193548, 0.07526882, 0.25806452, 0.77419355,\n",
       "       0.49462366, 0.5483871 , 0.82795699, 0.70967742, 0.75268817,\n",
       "       0.50537634, 0.90322581, 0.34408602, 0.79569892, 0.66666667,\n",
       "       0.70967742, 0.65591398, 0.65591398, 0.47311828, 0.29032258,\n",
       "       0.74193548, 0.43010753, 0.47311828, 0.44086022, 0.79569892,\n",
       "       0.22580645, 0.55913978, 0.69892473, 0.46236559, 0.96774194,\n",
       "       0.66666667, 0.78494624, 0.65591398, 0.64516129, 0.7311828 ,\n",
       "       0.77419355, 0.58064516, 0.83870968, 0.66666667, 0.38709677,\n",
       "       0.90322581, 0.38709677, 0.72043011, 0.84946237, 0.70967742,\n",
       "       0.74193548, 0.88172043, 0.53763441, 0.92473118, 0.30107527,\n",
       "       0.74193548, 0.78494624, 0.66666667, 0.55913978, 0.82795699,\n",
       "       0.65591398, 0.84946237, 0.61290323, 0.65591398, 0.38709677,\n",
       "       0.52688172, 0.50537634, 0.15053763, 0.5483871 , 0.76344086,\n",
       "       0.39784946, 0.48387097, 0.51612903, 0.91397849, 0.78494624,\n",
       "       0.69892473, 0.80645161, 0.34408602, 0.30107527, 0.08602151,\n",
       "       0.56989247, 0.8172043 , 0.6344086 , 0.5483871 , 0.20430108,\n",
       "       0.74193548, 0.6344086 , 0.58064516, 0.62365591, 0.77419355,\n",
       "       0.88172043, 0.68817204, 0.21505376, 0.69892473, 0.64516129,\n",
       "       0.34408602, 0.02150538, 0.6344086 , 0.75268817, 0.2688172 ,\n",
       "       0.27956989, 0.93548387, 0.30107527, 0.52688172, 0.92473118,\n",
       "       0.74193548, 0.53763441, 0.60215054, 0.62365591, 0.62365591,\n",
       "       0.52688172, 0.66666667, 0.74193548, 0.49462366, 0.03225806,\n",
       "       0.40860215, 0.47311828, 0.60215054, 0.87096774, 0.67741935,\n",
       "       0.82795699, 0.40860215, 0.49462366, 0.07526882, 0.49462366,\n",
       "       0.8172043 , 0.68817204, 0.3655914 , 0.77419355, 0.74193548,\n",
       "       0.56989247, 0.66666667, 0.38709677, 0.82795699, 0.82795699,\n",
       "       0.76344086, 0.        , 0.68817204, 0.8172043 , 0.60215054,\n",
       "       0.27956989, 0.79569892, 0.02150538, 0.25806452, 0.70967742,\n",
       "       0.35483871, 0.8172043 , 0.30107527, 0.03225806, 0.68817204,\n",
       "       0.80645161, 0.6344086 , 0.60215054, 0.68817204, 0.67741935,\n",
       "       0.70967742, 0.50537634, 0.6344086 , 0.78494624, 0.87096774,\n",
       "       0.72043011, 0.56989247, 0.69892473, 0.2688172 , 0.59139785,\n",
       "       0.77419355, 0.32258065, 0.84946237, 0.70967742, 0.82795699,\n",
       "       0.74193548, 0.60215054, 0.65591398, 0.56989247, 0.6344086 ,\n",
       "       0.64516129, 0.79569892, 0.64516129, 0.5483871 , 0.46236559,\n",
       "       0.04301075, 0.66666667, 0.75268817, 0.79569892, 0.7311828 ,\n",
       "       0.27956989, 0.50537634, 0.79569892, 0.64516129, 0.59139785,\n",
       "       0.82795699, 0.72043011, 0.53763441, 0.80645161, 0.76344086,\n",
       "       0.69892473, 0.4516129 , 0.67741935, 0.82795699, 0.91397849,\n",
       "       0.01075269, 0.67741935, 0.29032258, 0.75268817, 0.69892473,\n",
       "       0.83870968, 0.65591398, 0.72043011, 0.83870968, 0.90322581,\n",
       "       0.59139785, 0.60215054, 0.64516129, 0.49462366, 0.86021505,\n",
       "       0.84946237, 0.89247312, 0.50537634, 0.78494624, 0.39784946,\n",
       "       0.35483871, 0.58064516, 0.77419355, 0.84946237, 0.09677419,\n",
       "       0.86021505, 0.3655914 , 0.50537634, 0.89247312, 0.56989247,\n",
       "       0.38709677, 0.66666667, 0.3655914 , 0.62365591, 0.74193548,\n",
       "       0.01075269, 0.7311828 , 0.3655914 , 0.47311828, 0.68817204,\n",
       "       0.87096774, 0.6344086 , 0.20430108, 0.64516129, 0.7311828 ,\n",
       "       0.55913978, 0.90322581, 0.51612903, 0.34408602, 0.49462366,\n",
       "       0.        , 0.67741935, 0.29032258, 0.83870968, 0.72043011,\n",
       "       0.7311828 , 0.46236559, 0.82795699, 0.34408602, 0.43010753,\n",
       "       0.39784946, 0.51612903, 0.5483871 , 0.41935484, 0.32258065,\n",
       "       0.74193548])"
      ]
     },
     "execution_count": 8,
     "metadata": {},
     "output_type": "execute_result"
    }
   ],
   "source": [
    "y_test = data_test['popularity'].values\n",
    "y_test"
   ]
  },
  {
   "cell_type": "code",
   "execution_count": 9,
   "id": "5317ac6f",
   "metadata": {},
   "outputs": [
    {
     "name": "stderr",
     "output_type": "stream",
     "text": [
      "2022-04-22 18:47:10.150043: I tensorflow/core/platform/cpu_feature_guard.cc:151] This TensorFlow binary is optimized with oneAPI Deep Neural Network Library (oneDNN) to use the following CPU instructions in performance-critical operations:  AVX2 FMA\n",
      "To enable them in other operations, rebuild TensorFlow with the appropriate compiler flags.\n"
     ]
    }
   ],
   "source": [
    "# Building Model\n",
    "callback = EarlyStopping(monitor='val_loss', patience=8)\n",
    "model = Sequential()\n",
    "  \n",
    "model.add(Dense(15, activation='relu'))\n",
    "model.add(Dropout(0.5))\n",
    "model.add(Dense(1, activation='relu'))\n",
    "model.compile(optimizer='adam', loss='mse')"
   ]
  },
  {
   "cell_type": "code",
   "execution_count": null,
   "id": "d6664289",
   "metadata": {},
   "outputs": [
    {
     "name": "stdout",
     "output_type": "stream",
     "text": [
      "Epoch 1/80\n",
      "41/41 [==============================] - 0s 4ms/step - loss: 0.2009 - val_loss: 0.0798\n",
      "Epoch 2/80\n",
      "41/41 [==============================] - 0s 2ms/step - loss: 0.1655 - val_loss: 0.0632\n",
      "Epoch 3/80\n",
      "41/41 [==============================] - 0s 2ms/step - loss: 0.1195 - val_loss: 0.0587\n",
      "Epoch 4/80\n",
      "41/41 [==============================] - 0s 2ms/step - loss: 0.1025 - val_loss: 0.0548\n",
      "Epoch 5/80\n",
      " 1/41 [..............................] - ETA: 0s - loss: 0.1410"
     ]
    }
   ],
   "source": [
    "model.fit(x=x_train, y=y_train, epochs=80, \n",
    "          validation_data=(x_test,y_test),\n",
    "         callbacks = callback)"
   ]
  },
  {
   "cell_type": "code",
   "execution_count": null,
   "id": "efc83b0f",
   "metadata": {},
   "outputs": [],
   "source": [
    "model_losses = pd.DataFrame(model.history.history)\n",
    "model_losses.plot()"
   ]
  },
  {
   "cell_type": "code",
   "execution_count": null,
   "id": "1cb15e70",
   "metadata": {},
   "outputs": [],
   "source": [
    "predictions = model.predict(x_test)\n",
    "sample = pd.DataFrame(predictions,columns=['Predict'])\n",
    "sample['Actual']=y_test\n",
    "sample.head(10)"
   ]
  },
  {
   "cell_type": "code",
   "execution_count": null,
   "id": "c655229b",
   "metadata": {},
   "outputs": [],
   "source": [
    "mean_absolute_error(y_test,predictions)"
   ]
  },
  {
   "cell_type": "code",
   "execution_count": null,
   "id": "1246b14f",
   "metadata": {},
   "outputs": [],
   "source": [
    "np.sqrt(mean_squared_error(y_test,predictions))"
   ]
  }
 ],
 "metadata": {
  "kernelspec": {
   "display_name": "Python 3 (ipykernel)",
   "language": "python",
   "name": "python3"
  },
  "language_info": {
   "codemirror_mode": {
    "name": "ipython",
    "version": 3
   },
   "file_extension": ".py",
   "mimetype": "text/x-python",
   "name": "python",
   "nbconvert_exporter": "python",
   "pygments_lexer": "ipython3",
   "version": "3.9.7"
  }
 },
 "nbformat": 4,
 "nbformat_minor": 5
}
