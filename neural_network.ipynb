{
 "cells": [
  {
   "cell_type": "code",
   "execution_count": 1,
   "id": "b6bda306",
   "metadata": {},
   "outputs": [],
   "source": [
    "# DataFrame\n",
    "import pandas as pd\n",
    "\n",
    "# Matplot\n",
    "import matplotlib.pyplot as plt\n",
    "%matplotlib inline\n",
    "\n",
    "# Scikit-learn\n",
    "from sklearn.model_selection import train_test_split\n",
    "from sklearn.metrics import confusion_matrix, classification_report, accuracy_score\n",
    "from sklearn.metrics import mean_absolute_error,mean_squared_error\n",
    "\n",
    "\n",
    "# Keras\n",
    "from keras.models import Sequential\n",
    "from keras.layers import Activation, Dense, Dropout, Embedding, Flatten, Conv1D, MaxPooling1D, LSTM\n",
    "from keras.callbacks import EarlyStopping\n",
    "from keras import utils\n",
    "\n",
    "# Utility\n",
    "import numpy as np\n",
    "import time"
   ]
  },
  {
   "cell_type": "code",
   "execution_count": 2,
   "id": "79154764",
   "metadata": {},
   "outputs": [],
   "source": [
    "#Importing Dataset\n",
    "data = pd.read_csv('Datasets/cleaned_data.csv')\n",
    "data = data.drop(['Unnamed: 0'], axis = 1)"
   ]
  },
  {
   "cell_type": "code",
   "execution_count": 3,
   "id": "04978c91",
   "metadata": {},
   "outputs": [
    {
     "name": "stdout",
     "output_type": "stream",
     "text": [
      "<class 'pandas.core.frame.DataFrame'>\n",
      "RangeIndex: 1605 entries, 0 to 1604\n",
      "Data columns (total 15 columns):\n",
      " #   Column            Non-Null Count  Dtype  \n",
      "---  ------            --------------  -----  \n",
      " 0   total_tracks      1605 non-null   float64\n",
      " 1   duration_ms       1605 non-null   float64\n",
      " 2   popularity        1605 non-null   float64\n",
      " 3   danceability      1605 non-null   float64\n",
      " 4   energy            1605 non-null   float64\n",
      " 5   key               1605 non-null   float64\n",
      " 6   loudness          1605 non-null   float64\n",
      " 7   mode              1605 non-null   float64\n",
      " 8   speechiness       1605 non-null   float64\n",
      " 9   acousticness      1605 non-null   float64\n",
      " 10  instrumentalness  1605 non-null   float64\n",
      " 11  liveness          1605 non-null   float64\n",
      " 12  valence           1605 non-null   float64\n",
      " 13  tempo             1605 non-null   float64\n",
      " 14  time_signature    1605 non-null   float64\n",
      "dtypes: float64(15)\n",
      "memory usage: 188.2 KB\n"
     ]
    }
   ],
   "source": [
    "# making a new dataset with only numerical data\n",
    "numer_data = data.select_dtypes(include=['float64','int64'])\n",
    "numer_data.info()"
   ]
  },
  {
   "cell_type": "markdown",
   "id": "3772f353",
   "metadata": {},
   "source": [
    "## Machine Learning model - Neural Network"
   ]
  },
  {
   "cell_type": "code",
   "execution_count": 4,
   "id": "2deeb3ee",
   "metadata": {},
   "outputs": [
    {
     "name": "stdout",
     "output_type": "stream",
     "text": [
      "TRAIN size: 1284\n",
      "TEST size: 321\n"
     ]
    }
   ],
   "source": [
    "# Split into train and test dataset.\n",
    "data_train, data_test = train_test_split(numer_data, test_size=0.2, random_state=42)\n",
    "print(\"TRAIN size:\", len(data_train))\n",
    "print(\"TEST size:\", len(data_test))"
   ]
  },
  {
   "cell_type": "code",
   "execution_count": 5,
   "id": "7930fad9",
   "metadata": {},
   "outputs": [
    {
     "data": {
      "text/plain": [
       "array([[0.15730337, 0.09964049, 0.51372998, ..., 0.07922191, 0.73766722,\n",
       "        0.19585245],\n",
       "       [0.15730337, 0.11664177, 0.86498856, ..., 0.32297327, 0.84009197,\n",
       "        0.21596757],\n",
       "       [0.        , 0.0158407 , 0.5778032 , ..., 0.09910889, 0.61747492,\n",
       "        0.74232817],\n",
       "       ...,\n",
       "       [0.06741573, 0.01706077, 0.55949657, ..., 0.07063682, 0.18373746,\n",
       "        0.52616999],\n",
       "       [0.12359551, 0.13909014, 0.20251716, ..., 0.15018474, 0.20150502,\n",
       "        0.2587964 ],\n",
       "       [0.        , 0.10395394, 0.67048055, ..., 0.02814606, 0.61433946,\n",
       "        0.47431287]])"
      ]
     },
     "execution_count": 5,
     "metadata": {},
     "output_type": "execute_result"
    }
   ],
   "source": [
    "x_train = data_train.drop(['popularity', 'time_signature'], axis = 1).values\n",
    "x_train"
   ]
  },
  {
   "cell_type": "code",
   "execution_count": 6,
   "id": "aef8ae3b",
   "metadata": {},
   "outputs": [
    {
     "data": {
      "text/plain": [
       "array([[0.12359551, 0.13789252, 0.3604119 , ..., 0.13605738, 0.4868311 ,\n",
       "        0.50039392],\n",
       "       [0.31460674, 0.11990352, 0.21853547, ..., 0.24581613, 0.31229097,\n",
       "        0.27583008],\n",
       "       [0.12359551, 0.08965882, 0.63386728, ..., 0.00652032, 0.94042642,\n",
       "        0.24561927],\n",
       "       ...,\n",
       "       [0.19101124, 0.1286292 , 0.43592677, ..., 0.11649641, 0.51400502,\n",
       "        0.19023597],\n",
       "       [0.08988764, 0.2032622 , 0.13501144, ..., 0.10128233, 0.00668896,\n",
       "        0.49878013],\n",
       "       [0.        , 0.04507634, 0.60755149, ..., 0.33166703, 0.5882107 ,\n",
       "        0.67628372]])"
      ]
     },
     "execution_count": 6,
     "metadata": {},
     "output_type": "execute_result"
    }
   ],
   "source": [
    "x_test = data_test.drop(['popularity', 'time_signature'], axis = 1).values\n",
    "x_test"
   ]
  },
  {
   "cell_type": "code",
   "execution_count": 7,
   "id": "38e14e22",
   "metadata": {},
   "outputs": [
    {
     "data": {
      "text/plain": [
       "array([0.7311828 , 0.68817204, 0.70967742, ..., 0.38709677, 0.7311828 ,\n",
       "       0.29032258])"
      ]
     },
     "execution_count": 7,
     "metadata": {},
     "output_type": "execute_result"
    }
   ],
   "source": [
    "y_train = data_train['popularity'].values\n",
    "y_train"
   ]
  },
  {
   "cell_type": "code",
   "execution_count": 8,
   "id": "0643e794",
   "metadata": {},
   "outputs": [
    {
     "data": {
      "text/plain": [
       "array([0.79569892, 0.6344086 , 0.80645161, 0.        , 0.6344086 ,\n",
       "       0.83870968, 0.58064516, 0.52688172, 0.56989247, 0.8172043 ,\n",
       "       0.55913978, 0.07526882, 0.35483871, 0.37634409, 0.41935484,\n",
       "       0.67741935, 0.90322581, 0.46236559, 0.8172043 , 0.78494624,\n",
       "       0.75268817, 0.92473118, 0.47311828, 0.50537634, 0.75268817,\n",
       "       0.62365591, 0.91397849, 0.5483871 , 0.49462366, 0.64516129,\n",
       "       0.89247312, 0.66666667, 0.67741935, 0.70967742, 0.68817204,\n",
       "       0.68817204, 0.03225806, 0.50537634, 0.84946237, 0.68817204,\n",
       "       0.49462366, 0.83870968, 0.74193548, 0.65591398, 0.62365591,\n",
       "       0.88172043, 0.61290323, 0.72043011, 0.67741935, 0.53763441,\n",
       "       0.51612903, 0.78494624, 0.53763441, 0.61290323, 0.34408602,\n",
       "       0.70967742, 0.56989247, 0.75268817, 0.7311828 , 0.27956989,\n",
       "       0.13978495, 0.74193548, 0.07526882, 0.25806452, 0.77419355,\n",
       "       0.49462366, 0.5483871 , 0.82795699, 0.70967742, 0.75268817,\n",
       "       0.50537634, 0.90322581, 0.34408602, 0.79569892, 0.66666667,\n",
       "       0.70967742, 0.65591398, 0.65591398, 0.47311828, 0.29032258,\n",
       "       0.74193548, 0.43010753, 0.47311828, 0.44086022, 0.79569892,\n",
       "       0.22580645, 0.55913978, 0.69892473, 0.46236559, 0.96774194,\n",
       "       0.66666667, 0.78494624, 0.65591398, 0.64516129, 0.7311828 ,\n",
       "       0.77419355, 0.58064516, 0.83870968, 0.66666667, 0.38709677,\n",
       "       0.90322581, 0.38709677, 0.72043011, 0.84946237, 0.70967742,\n",
       "       0.74193548, 0.88172043, 0.53763441, 0.92473118, 0.30107527,\n",
       "       0.74193548, 0.78494624, 0.66666667, 0.55913978, 0.82795699,\n",
       "       0.65591398, 0.84946237, 0.61290323, 0.65591398, 0.38709677,\n",
       "       0.52688172, 0.50537634, 0.15053763, 0.5483871 , 0.76344086,\n",
       "       0.39784946, 0.48387097, 0.51612903, 0.91397849, 0.78494624,\n",
       "       0.69892473, 0.80645161, 0.34408602, 0.30107527, 0.08602151,\n",
       "       0.56989247, 0.8172043 , 0.6344086 , 0.5483871 , 0.20430108,\n",
       "       0.74193548, 0.6344086 , 0.58064516, 0.62365591, 0.77419355,\n",
       "       0.88172043, 0.68817204, 0.21505376, 0.69892473, 0.64516129,\n",
       "       0.34408602, 0.02150538, 0.6344086 , 0.75268817, 0.2688172 ,\n",
       "       0.27956989, 0.93548387, 0.30107527, 0.52688172, 0.92473118,\n",
       "       0.74193548, 0.53763441, 0.60215054, 0.62365591, 0.62365591,\n",
       "       0.52688172, 0.66666667, 0.74193548, 0.49462366, 0.03225806,\n",
       "       0.40860215, 0.47311828, 0.60215054, 0.87096774, 0.67741935,\n",
       "       0.82795699, 0.40860215, 0.49462366, 0.07526882, 0.49462366,\n",
       "       0.8172043 , 0.68817204, 0.3655914 , 0.77419355, 0.74193548,\n",
       "       0.56989247, 0.66666667, 0.38709677, 0.82795699, 0.82795699,\n",
       "       0.76344086, 0.        , 0.68817204, 0.8172043 , 0.60215054,\n",
       "       0.27956989, 0.79569892, 0.02150538, 0.25806452, 0.70967742,\n",
       "       0.35483871, 0.8172043 , 0.30107527, 0.03225806, 0.68817204,\n",
       "       0.80645161, 0.6344086 , 0.60215054, 0.68817204, 0.67741935,\n",
       "       0.70967742, 0.50537634, 0.6344086 , 0.78494624, 0.87096774,\n",
       "       0.72043011, 0.56989247, 0.69892473, 0.2688172 , 0.59139785,\n",
       "       0.77419355, 0.32258065, 0.84946237, 0.70967742, 0.82795699,\n",
       "       0.74193548, 0.60215054, 0.65591398, 0.56989247, 0.6344086 ,\n",
       "       0.64516129, 0.79569892, 0.64516129, 0.5483871 , 0.46236559,\n",
       "       0.04301075, 0.66666667, 0.75268817, 0.79569892, 0.7311828 ,\n",
       "       0.27956989, 0.50537634, 0.79569892, 0.64516129, 0.59139785,\n",
       "       0.82795699, 0.72043011, 0.53763441, 0.80645161, 0.76344086,\n",
       "       0.69892473, 0.4516129 , 0.67741935, 0.82795699, 0.91397849,\n",
       "       0.01075269, 0.67741935, 0.29032258, 0.75268817, 0.69892473,\n",
       "       0.83870968, 0.65591398, 0.72043011, 0.83870968, 0.90322581,\n",
       "       0.59139785, 0.60215054, 0.64516129, 0.49462366, 0.86021505,\n",
       "       0.84946237, 0.89247312, 0.50537634, 0.78494624, 0.39784946,\n",
       "       0.35483871, 0.58064516, 0.77419355, 0.84946237, 0.09677419,\n",
       "       0.86021505, 0.3655914 , 0.50537634, 0.89247312, 0.56989247,\n",
       "       0.38709677, 0.66666667, 0.3655914 , 0.62365591, 0.74193548,\n",
       "       0.01075269, 0.7311828 , 0.3655914 , 0.47311828, 0.68817204,\n",
       "       0.87096774, 0.6344086 , 0.20430108, 0.64516129, 0.7311828 ,\n",
       "       0.55913978, 0.90322581, 0.51612903, 0.34408602, 0.49462366,\n",
       "       0.        , 0.67741935, 0.29032258, 0.83870968, 0.72043011,\n",
       "       0.7311828 , 0.46236559, 0.82795699, 0.34408602, 0.43010753,\n",
       "       0.39784946, 0.51612903, 0.5483871 , 0.41935484, 0.32258065,\n",
       "       0.74193548])"
      ]
     },
     "execution_count": 8,
     "metadata": {},
     "output_type": "execute_result"
    }
   ],
   "source": [
    "y_test = data_test['popularity'].values\n",
    "y_test"
   ]
  },
  {
   "cell_type": "code",
   "execution_count": 9,
   "id": "5317ac6f",
   "metadata": {},
   "outputs": [
    {
     "name": "stderr",
     "output_type": "stream",
     "text": [
      "2022-04-23 16:52:04.147933: I tensorflow/core/platform/cpu_feature_guard.cc:151] This TensorFlow binary is optimized with oneAPI Deep Neural Network Library (oneDNN) to use the following CPU instructions in performance-critical operations:  AVX2 FMA\n",
      "To enable them in other operations, rebuild TensorFlow with the appropriate compiler flags.\n"
     ]
    }
   ],
   "source": [
    "# Building Model\n",
    "callback = EarlyStopping(monitor='val_loss', patience=8)\n",
    "model = Sequential()\n",
    "  \n",
    "model.add(Dense(15, activation='relu'))\n",
    "model.add(Dropout(0.5))\n",
    "model.add(Dense(1, activation='relu'))\n",
    "model.compile(optimizer='adam', loss='mse')\n",
    "\n",
    "model_1 = Sequential()\n",
    "  \n",
    "model_1.add(Dense(15, activation='relu'))\n",
    "model_1.add(Dropout(0.5))\n",
    "model_1.add(Dense(10, activation='relu'))\n",
    "model_1.add(Dense(5, activation='relu'))\n",
    "model_1.add(Dense(1))\n",
    "model_1.compile(optimizer='adam', loss='mse')\n",
    "\n",
    "model_2 = Sequential()\n",
    "  \n",
    "model_2.add(Dense(43, activation='relu'))\n",
    "model_2.add(Dropout(0.5))\n",
    "model_2.add(Dense(10, activation='relu'))\n",
    "model_2.add(Dense(1))\n",
    "model_2.compile(optimizer='adam', loss='mse')"
   ]
  },
  {
   "cell_type": "code",
   "execution_count": 10,
   "id": "d6664289",
   "metadata": {},
   "outputs": [
    {
     "name": "stdout",
     "output_type": "stream",
     "text": [
      "Epoch 1/80\n",
      "41/41 [==============================] - 2s 14ms/step - loss: 0.2686 - val_loss: 0.1093\n",
      "Epoch 2/80\n",
      "41/41 [==============================] - 0s 5ms/step - loss: 0.2043 - val_loss: 0.0888\n",
      "Epoch 3/80\n",
      "41/41 [==============================] - 0s 5ms/step - loss: 0.1565 - val_loss: 0.0795\n",
      "Epoch 4/80\n",
      "41/41 [==============================] - 0s 5ms/step - loss: 0.1326 - val_loss: 0.0685\n",
      "Epoch 5/80\n",
      "41/41 [==============================] - 0s 4ms/step - loss: 0.1122 - val_loss: 0.0626\n",
      "Epoch 6/80\n",
      "41/41 [==============================] - 0s 5ms/step - loss: 0.0898 - val_loss: 0.0601\n",
      "Epoch 7/80\n",
      "41/41 [==============================] - 0s 5ms/step - loss: 0.0821 - val_loss: 0.0555\n",
      "Epoch 8/80\n",
      "41/41 [==============================] - 0s 5ms/step - loss: 0.0778 - val_loss: 0.0549\n",
      "Epoch 9/80\n",
      "41/41 [==============================] - 0s 6ms/step - loss: 0.0701 - val_loss: 0.0522\n",
      "Epoch 10/80\n",
      "41/41 [==============================] - 0s 5ms/step - loss: 0.0656 - val_loss: 0.0515\n",
      "Epoch 11/80\n",
      "41/41 [==============================] - 0s 4ms/step - loss: 0.0619 - val_loss: 0.0512\n",
      "Epoch 12/80\n",
      "41/41 [==============================] - 0s 4ms/step - loss: 0.0581 - val_loss: 0.0509\n",
      "Epoch 13/80\n",
      "41/41 [==============================] - 0s 6ms/step - loss: 0.0604 - val_loss: 0.0505\n",
      "Epoch 14/80\n",
      "41/41 [==============================] - 0s 4ms/step - loss: 0.0543 - val_loss: 0.0500\n",
      "Epoch 15/80\n",
      "41/41 [==============================] - 0s 5ms/step - loss: 0.0522 - val_loss: 0.0491\n",
      "Epoch 16/80\n",
      "41/41 [==============================] - 0s 4ms/step - loss: 0.0530 - val_loss: 0.0491\n",
      "Epoch 17/80\n",
      "41/41 [==============================] - 0s 5ms/step - loss: 0.0487 - val_loss: 0.0485\n",
      "Epoch 18/80\n",
      "41/41 [==============================] - 0s 5ms/step - loss: 0.0490 - val_loss: 0.0482\n",
      "Epoch 19/80\n",
      "41/41 [==============================] - 0s 7ms/step - loss: 0.0480 - val_loss: 0.0479\n",
      "Epoch 20/80\n",
      "41/41 [==============================] - 0s 4ms/step - loss: 0.0461 - val_loss: 0.0475\n",
      "Epoch 21/80\n",
      "41/41 [==============================] - 0s 4ms/step - loss: 0.0448 - val_loss: 0.0474\n",
      "Epoch 22/80\n",
      "41/41 [==============================] - 0s 5ms/step - loss: 0.0459 - val_loss: 0.0475\n",
      "Epoch 23/80\n",
      "41/41 [==============================] - 0s 5ms/step - loss: 0.0436 - val_loss: 0.0471\n",
      "Epoch 24/80\n",
      "41/41 [==============================] - 0s 7ms/step - loss: 0.0439 - val_loss: 0.0470\n",
      "Epoch 25/80\n",
      "41/41 [==============================] - 0s 4ms/step - loss: 0.0427 - val_loss: 0.0469\n",
      "Epoch 26/80\n",
      "41/41 [==============================] - 0s 4ms/step - loss: 0.0421 - val_loss: 0.0470\n",
      "Epoch 27/80\n",
      "41/41 [==============================] - 0s 5ms/step - loss: 0.0409 - val_loss: 0.0469\n",
      "Epoch 28/80\n",
      "41/41 [==============================] - 0s 5ms/step - loss: 0.0415 - val_loss: 0.0469\n",
      "Epoch 29/80\n",
      "41/41 [==============================] - 0s 5ms/step - loss: 0.0405 - val_loss: 0.0470\n",
      "Epoch 30/80\n",
      "41/41 [==============================] - 0s 5ms/step - loss: 0.0411 - val_loss: 0.0469\n",
      "Epoch 31/80\n",
      "41/41 [==============================] - 0s 4ms/step - loss: 0.0404 - val_loss: 0.0468\n",
      "Epoch 32/80\n",
      "41/41 [==============================] - 0s 5ms/step - loss: 0.0409 - val_loss: 0.0467\n",
      "Epoch 33/80\n",
      "41/41 [==============================] - 0s 6ms/step - loss: 0.0405 - val_loss: 0.0468\n",
      "Epoch 34/80\n",
      "41/41 [==============================] - 0s 5ms/step - loss: 0.0411 - val_loss: 0.0467\n",
      "Epoch 35/80\n",
      "41/41 [==============================] - 0s 5ms/step - loss: 0.0398 - val_loss: 0.0468\n",
      "Epoch 36/80\n",
      "41/41 [==============================] - 0s 5ms/step - loss: 0.0398 - val_loss: 0.0468\n",
      "Epoch 37/80\n",
      "41/41 [==============================] - 0s 4ms/step - loss: 0.0399 - val_loss: 0.0468\n",
      "Epoch 38/80\n",
      "41/41 [==============================] - 0s 9ms/step - loss: 0.0401 - val_loss: 0.0470\n",
      "Epoch 39/80\n",
      "41/41 [==============================] - 0s 6ms/step - loss: 0.0399 - val_loss: 0.0468\n",
      "Epoch 40/80\n",
      "41/41 [==============================] - 0s 5ms/step - loss: 0.0398 - val_loss: 0.0467\n",
      "Epoch 41/80\n",
      "41/41 [==============================] - 0s 10ms/step - loss: 0.0406 - val_loss: 0.0467\n",
      "Epoch 42/80\n",
      "41/41 [==============================] - 0s 9ms/step - loss: 0.0402 - val_loss: 0.0468\n"
     ]
    },
    {
     "data": {
      "text/plain": [
       "<keras.callbacks.History at 0x7f7f614f6dc0>"
      ]
     },
     "execution_count": 10,
     "metadata": {},
     "output_type": "execute_result"
    }
   ],
   "source": [
    "model.fit(x=x_train, y=y_train, epochs=80, \n",
    "          validation_data=(x_test,y_test),\n",
    "         callbacks = callback)"
   ]
  },
  {
   "cell_type": "code",
   "execution_count": 11,
   "id": "efc83b0f",
   "metadata": {},
   "outputs": [
    {
     "data": {
      "text/plain": [
       "<AxesSubplot:>"
      ]
     },
     "execution_count": 11,
     "metadata": {},
     "output_type": "execute_result"
    },
    {
     "data": {
      "image/png": "[encoded data removed]",
      "text/plain": [
       "<Figure size 432x288 with 1 Axes>"
      ]
     },
     "metadata": {
      "needs_background": "light"
     },
     "output_type": "display_data"
    }
   ],
   "source": [
    "model_losses = pd.DataFrame(model.history.history)\n",
    "model_losses.plot()"
   ]
  },
  {
   "cell_type": "code",
   "execution_count": 12,
   "id": "1cb15e70",
   "metadata": {},
   "outputs": [
    {
     "data": {
      "text/html": [
       "<div>\n",
       "<style scoped>\n",
       "    .dataframe tbody tr th:only-of-type {\n",
       "        vertical-align: middle;\n",
       "    }\n",
       "\n",
       "    .dataframe tbody tr th {\n",
       "        vertical-align: top;\n",
       "    }\n",
       "\n",
       "    .dataframe thead th {\n",
       "        text-align: right;\n",
       "    }\n",
       "</style>\n",
       "<table border=\"1\" class=\"dataframe\">\n",
       "  <thead>\n",
       "    <tr style=\"text-align: right;\">\n",
       "      <th></th>\n",
       "      <th>Predict</th>\n",
       "      <th>Actual</th>\n",
       "    </tr>\n",
       "  </thead>\n",
       "  <tbody>\n",
       "    <tr>\n",
       "      <th>0</th>\n",
       "      <td>0.601096</td>\n",
       "      <td>0.795699</td>\n",
       "    </tr>\n",
       "    <tr>\n",
       "      <th>1</th>\n",
       "      <td>0.603174</td>\n",
       "      <td>0.634409</td>\n",
       "    </tr>\n",
       "    <tr>\n",
       "      <th>2</th>\n",
       "      <td>0.630815</td>\n",
       "      <td>0.806452</td>\n",
       "    </tr>\n",
       "    <tr>\n",
       "      <th>3</th>\n",
       "      <td>0.632751</td>\n",
       "      <td>0.000000</td>\n",
       "    </tr>\n",
       "    <tr>\n",
       "      <th>4</th>\n",
       "      <td>0.600430</td>\n",
       "      <td>0.634409</td>\n",
       "    </tr>\n",
       "    <tr>\n",
       "      <th>5</th>\n",
       "      <td>0.624470</td>\n",
       "      <td>0.838710</td>\n",
       "    </tr>\n",
       "    <tr>\n",
       "      <th>6</th>\n",
       "      <td>0.618026</td>\n",
       "      <td>0.580645</td>\n",
       "    </tr>\n",
       "    <tr>\n",
       "      <th>7</th>\n",
       "      <td>0.612042</td>\n",
       "      <td>0.526882</td>\n",
       "    </tr>\n",
       "    <tr>\n",
       "      <th>8</th>\n",
       "      <td>0.644875</td>\n",
       "      <td>0.569892</td>\n",
       "    </tr>\n",
       "    <tr>\n",
       "      <th>9</th>\n",
       "      <td>0.689910</td>\n",
       "      <td>0.817204</td>\n",
       "    </tr>\n",
       "  </tbody>\n",
       "</table>\n",
       "</div>"
      ],
      "text/plain": [
       "    Predict    Actual\n",
       "0  0.601096  0.795699\n",
       "1  0.603174  0.634409\n",
       "2  0.630815  0.806452\n",
       "3  0.632751  0.000000\n",
       "4  0.600430  0.634409\n",
       "5  0.624470  0.838710\n",
       "6  0.618026  0.580645\n",
       "7  0.612042  0.526882\n",
       "8  0.644875  0.569892\n",
       "9  0.689910  0.817204"
      ]
     },
     "execution_count": 12,
     "metadata": {},
     "output_type": "execute_result"
    }
   ],
   "source": [
    "predictions = model.predict(x_test)\n",
    "sample = pd.DataFrame(predictions,columns=['Predict'])\n",
    "sample['Actual']=y_test\n",
    "sample.head(10)"
   ]
  },
  {
   "cell_type": "code",
   "execution_count": 13,
   "id": "c655229b",
   "metadata": {},
   "outputs": [
    {
     "data": {
      "text/plain": [
       "0.17030693836273333"
      ]
     },
     "execution_count": 13,
     "metadata": {},
     "output_type": "execute_result"
    }
   ],
   "source": [
    "mean_absolute_error(y_test,predictions)"
   ]
  },
  {
   "cell_type": "code",
   "execution_count": 14,
   "id": "1246b14f",
   "metadata": {},
   "outputs": [
    {
     "name": "stdout",
     "output_type": "stream",
     "text": [
      "RMSE: \n"
     ]
    },
    {
     "data": {
      "text/plain": [
       "0.21627627672370023"
      ]
     },
     "execution_count": 14,
     "metadata": {},
     "output_type": "execute_result"
    }
   ],
   "source": [
    "print(\"RMSE: \")\n",
    "np.sqrt(mean_squared_error(y_test,predictions))"
   ]
  },
  {
   "cell_type": "code",
   "execution_count": 15,
   "id": "2738ce6c",
   "metadata": {},
   "outputs": [
    {
     "name": "stdout",
     "output_type": "stream",
     "text": [
      "Epoch 1/80\n",
      "41/41 [==============================] - 2s 14ms/step - loss: 0.2376 - val_loss: 0.0725\n",
      "Epoch 2/80\n",
      "41/41 [==============================] - 0s 4ms/step - loss: 0.1036 - val_loss: 0.0566\n",
      "Epoch 3/80\n",
      "41/41 [==============================] - 0s 4ms/step - loss: 0.0826 - val_loss: 0.0526\n",
      "Epoch 4/80\n",
      "41/41 [==============================] - 0s 5ms/step - loss: 0.0687 - val_loss: 0.0513\n",
      "Epoch 5/80\n",
      "41/41 [==============================] - 0s 7ms/step - loss: 0.0616 - val_loss: 0.0522\n",
      "Epoch 6/80\n",
      "41/41 [==============================] - 0s 4ms/step - loss: 0.0580 - val_loss: 0.0528\n",
      "Epoch 7/80\n",
      "41/41 [==============================] - 0s 4ms/step - loss: 0.0500 - val_loss: 0.0497\n",
      "Epoch 8/80\n",
      "41/41 [==============================] - 0s 5ms/step - loss: 0.0490 - val_loss: 0.0509\n",
      "Epoch 9/80\n",
      "41/41 [==============================] - 0s 5ms/step - loss: 0.0461 - val_loss: 0.0500\n",
      "Epoch 10/80\n",
      "41/41 [==============================] - 0s 6ms/step - loss: 0.0441 - val_loss: 0.0489\n",
      "Epoch 11/80\n",
      "41/41 [==============================] - 0s 5ms/step - loss: 0.0441 - val_loss: 0.0476\n",
      "Epoch 12/80\n",
      "41/41 [==============================] - 0s 5ms/step - loss: 0.0422 - val_loss: 0.0483\n",
      "Epoch 13/80\n",
      "41/41 [==============================] - 0s 5ms/step - loss: 0.0421 - val_loss: 0.0482\n",
      "Epoch 14/80\n",
      "41/41 [==============================] - 0s 7ms/step - loss: 0.0431 - val_loss: 0.0477\n",
      "Epoch 15/80\n",
      "41/41 [==============================] - 0s 5ms/step - loss: 0.0416 - val_loss: 0.0467\n",
      "Epoch 16/80\n",
      "41/41 [==============================] - 0s 5ms/step - loss: 0.0411 - val_loss: 0.0470\n",
      "Epoch 17/80\n",
      "41/41 [==============================] - 0s 3ms/step - loss: 0.0407 - val_loss: 0.0469\n",
      "Epoch 18/80\n",
      "41/41 [==============================] - 0s 5ms/step - loss: 0.0402 - val_loss: 0.0463\n",
      "Epoch 19/80\n",
      "41/41 [==============================] - 0s 6ms/step - loss: 0.0406 - val_loss: 0.0466\n",
      "Epoch 20/80\n",
      "41/41 [==============================] - 0s 6ms/step - loss: 0.0411 - val_loss: 0.0470\n",
      "Epoch 21/80\n",
      "41/41 [==============================] - 0s 4ms/step - loss: 0.0405 - val_loss: 0.0469\n",
      "Epoch 22/80\n",
      "41/41 [==============================] - 0s 4ms/step - loss: 0.0397 - val_loss: 0.0471\n",
      "Epoch 23/80\n",
      "41/41 [==============================] - 0s 5ms/step - loss: 0.0405 - val_loss: 0.0469\n",
      "Epoch 24/80\n",
      "41/41 [==============================] - 0s 7ms/step - loss: 0.0399 - val_loss: 0.0468\n",
      "Epoch 25/80\n",
      "41/41 [==============================] - 0s 6ms/step - loss: 0.0405 - val_loss: 0.0472\n",
      "Epoch 26/80\n",
      "41/41 [==============================] - 0s 4ms/step - loss: 0.0405 - val_loss: 0.0470\n"
     ]
    },
    {
     "data": {
      "text/plain": [
       "<keras.callbacks.History at 0x7f7f4ce623d0>"
      ]
     },
     "execution_count": 15,
     "metadata": {},
     "output_type": "execute_result"
    }
   ],
   "source": [
    "model_1.fit(x=x_train, y=y_train, epochs=80, \n",
    "          validation_data=(x_test,y_test),\n",
    "         callbacks = callback)"
   ]
  },
  {
   "cell_type": "code",
   "execution_count": 16,
   "id": "47884d27",
   "metadata": {},
   "outputs": [
    {
     "data": {
      "text/plain": [
       "<AxesSubplot:>"
      ]
     },
     "execution_count": 16,
     "metadata": {},
     "output_type": "execute_result"
    },
    {
     "data": {
      "image/png": "[encoded data removed]",
      "text/plain": [
       "<Figure size 432x288 with 1 Axes>"
      ]
     },
     "metadata": {
      "needs_background": "light"
     },
     "output_type": "display_data"
    }
   ],
   "source": [
    "model_1_losses = pd.DataFrame(model_1.history.history)\n",
    "model_1_losses.plot()"
   ]
  },
  {
   "cell_type": "code",
   "execution_count": 17,
   "id": "5e376996",
   "metadata": {},
   "outputs": [
    {
     "data": {
      "text/html": [
       "<div>\n",
       "<style scoped>\n",
       "    .dataframe tbody tr th:only-of-type {\n",
       "        vertical-align: middle;\n",
       "    }\n",
       "\n",
       "    .dataframe tbody tr th {\n",
       "        vertical-align: top;\n",
       "    }\n",
       "\n",
       "    .dataframe thead th {\n",
       "        text-align: right;\n",
       "    }\n",
       "</style>\n",
       "<table border=\"1\" class=\"dataframe\">\n",
       "  <thead>\n",
       "    <tr style=\"text-align: right;\">\n",
       "      <th></th>\n",
       "      <th>Predict</th>\n",
       "      <th>Actual</th>\n",
       "    </tr>\n",
       "  </thead>\n",
       "  <tbody>\n",
       "    <tr>\n",
       "      <th>0</th>\n",
       "      <td>0.577694</td>\n",
       "      <td>0.795699</td>\n",
       "    </tr>\n",
       "    <tr>\n",
       "      <th>1</th>\n",
       "      <td>0.541640</td>\n",
       "      <td>0.634409</td>\n",
       "    </tr>\n",
       "    <tr>\n",
       "      <th>2</th>\n",
       "      <td>0.629301</td>\n",
       "      <td>0.806452</td>\n",
       "    </tr>\n",
       "    <tr>\n",
       "      <th>3</th>\n",
       "      <td>0.585806</td>\n",
       "      <td>0.000000</td>\n",
       "    </tr>\n",
       "    <tr>\n",
       "      <th>4</th>\n",
       "      <td>0.565434</td>\n",
       "      <td>0.634409</td>\n",
       "    </tr>\n",
       "    <tr>\n",
       "      <th>5</th>\n",
       "      <td>0.607618</td>\n",
       "      <td>0.838710</td>\n",
       "    </tr>\n",
       "    <tr>\n",
       "      <th>6</th>\n",
       "      <td>0.520709</td>\n",
       "      <td>0.580645</td>\n",
       "    </tr>\n",
       "    <tr>\n",
       "      <th>7</th>\n",
       "      <td>0.601711</td>\n",
       "      <td>0.526882</td>\n",
       "    </tr>\n",
       "    <tr>\n",
       "      <th>8</th>\n",
       "      <td>0.621118</td>\n",
       "      <td>0.569892</td>\n",
       "    </tr>\n",
       "    <tr>\n",
       "      <th>9</th>\n",
       "      <td>0.644678</td>\n",
       "      <td>0.817204</td>\n",
       "    </tr>\n",
       "  </tbody>\n",
       "</table>\n",
       "</div>"
      ],
      "text/plain": [
       "    Predict    Actual\n",
       "0  0.577694  0.795699\n",
       "1  0.541640  0.634409\n",
       "2  0.629301  0.806452\n",
       "3  0.585806  0.000000\n",
       "4  0.565434  0.634409\n",
       "5  0.607618  0.838710\n",
       "6  0.520709  0.580645\n",
       "7  0.601711  0.526882\n",
       "8  0.621118  0.569892\n",
       "9  0.644678  0.817204"
      ]
     },
     "execution_count": 17,
     "metadata": {},
     "output_type": "execute_result"
    }
   ],
   "source": [
    "predictions = model_1.predict(x_test)\n",
    "sample = pd.DataFrame(predictions,columns=['Predict'])\n",
    "sample['Actual']=y_test\n",
    "sample.head(10)"
   ]
  },
  {
   "cell_type": "code",
   "execution_count": 18,
   "id": "fe5644f0",
   "metadata": {},
   "outputs": [
    {
     "data": {
      "text/plain": [
       "0.1744141442286239"
      ]
     },
     "execution_count": 18,
     "metadata": {},
     "output_type": "execute_result"
    }
   ],
   "source": [
    "mean_absolute_error(y_test,predictions)"
   ]
  },
  {
   "cell_type": "code",
   "execution_count": 19,
   "id": "b9c06dd9",
   "metadata": {},
   "outputs": [
    {
     "name": "stdout",
     "output_type": "stream",
     "text": [
      "RMSE: \n"
     ]
    },
    {
     "data": {
      "text/plain": [
       "0.21668850911071708"
      ]
     },
     "execution_count": 19,
     "metadata": {},
     "output_type": "execute_result"
    }
   ],
   "source": [
    "print(\"RMSE: \")\n",
    "np.sqrt(mean_squared_error(y_test,predictions))"
   ]
  },
  {
   "cell_type": "code",
   "execution_count": 20,
   "id": "25f18f65",
   "metadata": {},
   "outputs": [
    {
     "name": "stdout",
     "output_type": "stream",
     "text": [
      "Epoch 1/80\n",
      "41/41 [==============================] - 3s 16ms/step - loss: 0.3703 - val_loss: 0.0759\n",
      "Epoch 2/80\n",
      "41/41 [==============================] - 0s 6ms/step - loss: 0.1222 - val_loss: 0.0706\n",
      "Epoch 3/80\n",
      "41/41 [==============================] - 0s 6ms/step - loss: 0.0900 - val_loss: 0.0632\n",
      "Epoch 4/80\n",
      "41/41 [==============================] - 0s 6ms/step - loss: 0.0742 - val_loss: 0.0523\n",
      "Epoch 5/80\n",
      "41/41 [==============================] - 0s 7ms/step - loss: 0.0711 - val_loss: 0.0555\n",
      "Epoch 6/80\n",
      "41/41 [==============================] - 0s 10ms/step - loss: 0.0652 - val_loss: 0.0507\n",
      "Epoch 7/80\n",
      "41/41 [==============================] - 0s 7ms/step - loss: 0.0610 - val_loss: 0.0537\n",
      "Epoch 8/80\n",
      "41/41 [==============================] - 0s 7ms/step - loss: 0.0582 - val_loss: 0.0508\n",
      "Epoch 9/80\n",
      "41/41 [==============================] - 0s 6ms/step - loss: 0.0566 - val_loss: 0.0519\n",
      "Epoch 10/80\n",
      "41/41 [==============================] - 0s 11ms/step - loss: 0.0549 - val_loss: 0.0493\n",
      "Epoch 11/80\n",
      "41/41 [==============================] - 0s 11ms/step - loss: 0.0530 - val_loss: 0.0498\n",
      "Epoch 12/80\n",
      "41/41 [==============================] - 0s 6ms/step - loss: 0.0517 - val_loss: 0.0509\n",
      "Epoch 13/80\n",
      "41/41 [==============================] - 0s 6ms/step - loss: 0.0489 - val_loss: 0.0492\n",
      "Epoch 14/80\n",
      "41/41 [==============================] - 0s 4ms/step - loss: 0.0481 - val_loss: 0.0498\n",
      "Epoch 15/80\n",
      "41/41 [==============================] - 0s 8ms/step - loss: 0.0475 - val_loss: 0.0494\n",
      "Epoch 16/80\n",
      "41/41 [==============================] - 0s 5ms/step - loss: 0.0467 - val_loss: 0.0482\n",
      "Epoch 17/80\n",
      "41/41 [==============================] - 0s 6ms/step - loss: 0.0467 - val_loss: 0.0503\n",
      "Epoch 18/80\n",
      "41/41 [==============================] - 0s 9ms/step - loss: 0.0447 - val_loss: 0.0500\n",
      "Epoch 19/80\n",
      "41/41 [==============================] - 0s 6ms/step - loss: 0.0439 - val_loss: 0.0498\n",
      "Epoch 20/80\n",
      "41/41 [==============================] - 0s 9ms/step - loss: 0.0435 - val_loss: 0.0483\n",
      "Epoch 21/80\n",
      "41/41 [==============================] - 0s 8ms/step - loss: 0.0431 - val_loss: 0.0489\n",
      "Epoch 22/80\n",
      "41/41 [==============================] - 0s 5ms/step - loss: 0.0439 - val_loss: 0.0493\n",
      "Epoch 23/80\n",
      "41/41 [==============================] - 0s 8ms/step - loss: 0.0450 - val_loss: 0.0477\n",
      "Epoch 24/80\n",
      "41/41 [==============================] - 0s 8ms/step - loss: 0.0429 - val_loss: 0.0474\n",
      "Epoch 25/80\n",
      "41/41 [==============================] - 0s 9ms/step - loss: 0.0415 - val_loss: 0.0484\n",
      "Epoch 26/80\n",
      "41/41 [==============================] - 0s 10ms/step - loss: 0.0421 - val_loss: 0.0477\n",
      "Epoch 27/80\n",
      "41/41 [==============================] - 1s 13ms/step - loss: 0.0418 - val_loss: 0.0475\n",
      "Epoch 28/80\n",
      "41/41 [==============================] - 0s 7ms/step - loss: 0.0420 - val_loss: 0.0474\n",
      "Epoch 29/80\n",
      "41/41 [==============================] - 0s 7ms/step - loss: 0.0430 - val_loss: 0.0470\n",
      "Epoch 30/80\n",
      "41/41 [==============================] - 0s 6ms/step - loss: 0.0417 - val_loss: 0.0466\n",
      "Epoch 31/80\n",
      "41/41 [==============================] - 0s 4ms/step - loss: 0.0412 - val_loss: 0.0465\n",
      "Epoch 32/80\n",
      "41/41 [==============================] - 0s 11ms/step - loss: 0.0425 - val_loss: 0.0469\n",
      "Epoch 33/80\n",
      "41/41 [==============================] - 0s 9ms/step - loss: 0.0412 - val_loss: 0.0464\n",
      "Epoch 34/80\n",
      "41/41 [==============================] - 0s 6ms/step - loss: 0.0414 - val_loss: 0.0463\n",
      "Epoch 35/80\n",
      "41/41 [==============================] - 0s 6ms/step - loss: 0.0403 - val_loss: 0.0463\n",
      "Epoch 36/80\n",
      "41/41 [==============================] - 0s 5ms/step - loss: 0.0398 - val_loss: 0.0463\n",
      "Epoch 37/80\n",
      "41/41 [==============================] - 0s 5ms/step - loss: 0.0403 - val_loss: 0.0464\n",
      "Epoch 38/80\n",
      "41/41 [==============================] - 0s 7ms/step - loss: 0.0408 - val_loss: 0.0464\n",
      "Epoch 39/80\n",
      "41/41 [==============================] - 0s 12ms/step - loss: 0.0394 - val_loss: 0.0464\n",
      "Epoch 40/80\n",
      "41/41 [==============================] - 0s 7ms/step - loss: 0.0409 - val_loss: 0.0464\n",
      "Epoch 41/80\n",
      "41/41 [==============================] - 0s 10ms/step - loss: 0.0398 - val_loss: 0.0462\n",
      "Epoch 42/80\n",
      "41/41 [==============================] - 0s 8ms/step - loss: 0.0391 - val_loss: 0.0463\n",
      "Epoch 43/80\n",
      "41/41 [==============================] - 1s 12ms/step - loss: 0.0400 - val_loss: 0.0464\n",
      "Epoch 44/80\n",
      "41/41 [==============================] - 0s 9ms/step - loss: 0.0400 - val_loss: 0.0464\n",
      "Epoch 45/80\n",
      "41/41 [==============================] - 0s 6ms/step - loss: 0.0385 - val_loss: 0.0465\n",
      "Epoch 46/80\n",
      "41/41 [==============================] - 0s 5ms/step - loss: 0.0400 - val_loss: 0.0464\n",
      "Epoch 47/80\n",
      "41/41 [==============================] - 0s 6ms/step - loss: 0.0393 - val_loss: 0.0465\n",
      "Epoch 48/80\n",
      "41/41 [==============================] - 0s 5ms/step - loss: 0.0390 - val_loss: 0.0464\n",
      "Epoch 49/80\n",
      "41/41 [==============================] - 0s 12ms/step - loss: 0.0390 - val_loss: 0.0464\n",
      "Epoch 50/80\n",
      "41/41 [==============================] - 0s 11ms/step - loss: 0.0388 - val_loss: 0.0468\n",
      "Epoch 51/80\n",
      "41/41 [==============================] - 0s 8ms/step - loss: 0.0396 - val_loss: 0.0463\n",
      "Epoch 52/80\n",
      "41/41 [==============================] - 0s 6ms/step - loss: 0.0386 - val_loss: 0.0464\n",
      "Epoch 53/80\n",
      "41/41 [==============================] - 0s 9ms/step - loss: 0.0393 - val_loss: 0.0465\n",
      "Epoch 54/80\n",
      "41/41 [==============================] - 0s 12ms/step - loss: 0.0389 - val_loss: 0.0464\n",
      "Epoch 55/80\n",
      "41/41 [==============================] - 0s 5ms/step - loss: 0.0392 - val_loss: 0.0465\n",
      "Epoch 56/80\n",
      "41/41 [==============================] - 1s 14ms/step - loss: 0.0387 - val_loss: 0.0466\n",
      "Epoch 57/80\n",
      "41/41 [==============================] - 0s 11ms/step - loss: 0.0391 - val_loss: 0.0470\n",
      "Epoch 58/80\n",
      "41/41 [==============================] - 0s 4ms/step - loss: 0.0390 - val_loss: 0.0469\n",
      "Epoch 59/80\n",
      "41/41 [==============================] - 0s 6ms/step - loss: 0.0387 - val_loss: 0.0467\n",
      "Epoch 60/80\n",
      "41/41 [==============================] - 0s 10ms/step - loss: 0.0387 - val_loss: 0.0466\n",
      "Epoch 61/80\n",
      "41/41 [==============================] - 1s 13ms/step - loss: 0.0389 - val_loss: 0.0464\n",
      "Epoch 62/80\n",
      "41/41 [==============================] - 0s 8ms/step - loss: 0.0381 - val_loss: 0.0463\n",
      "Epoch 63/80\n",
      "41/41 [==============================] - 0s 9ms/step - loss: 0.0384 - val_loss: 0.0463\n",
      "Epoch 64/80\n",
      "41/41 [==============================] - 0s 6ms/step - loss: 0.0390 - val_loss: 0.0466\n",
      "Epoch 65/80\n",
      "41/41 [==============================] - 0s 10ms/step - loss: 0.0382 - val_loss: 0.0464\n",
      "Epoch 66/80\n",
      "41/41 [==============================] - 0s 8ms/step - loss: 0.0388 - val_loss: 0.0470\n",
      "Epoch 67/80\n",
      "41/41 [==============================] - 0s 11ms/step - loss: 0.0382 - val_loss: 0.0463\n",
      "Epoch 68/80\n",
      "41/41 [==============================] - 0s 10ms/step - loss: 0.0387 - val_loss: 0.0465\n",
      "Epoch 69/80\n",
      "41/41 [==============================] - 0s 9ms/step - loss: 0.0387 - val_loss: 0.0466\n",
      "Epoch 70/80\n",
      "41/41 [==============================] - 0s 10ms/step - loss: 0.0383 - val_loss: 0.0468\n",
      "Epoch 71/80\n",
      "41/41 [==============================] - 0s 12ms/step - loss: 0.0381 - val_loss: 0.0467\n",
      "Epoch 72/80\n",
      "41/41 [==============================] - 0s 8ms/step - loss: 0.0383 - val_loss: 0.0467\n",
      "Epoch 73/80\n",
      "41/41 [==============================] - 0s 5ms/step - loss: 0.0380 - val_loss: 0.0471\n",
      "Epoch 74/80\n",
      "41/41 [==============================] - 0s 6ms/step - loss: 0.0385 - val_loss: 0.0467\n",
      "Epoch 75/80\n",
      "41/41 [==============================] - 0s 8ms/step - loss: 0.0383 - val_loss: 0.0467\n",
      "Epoch 76/80\n",
      "41/41 [==============================] - 0s 7ms/step - loss: 0.0385 - val_loss: 0.0471\n",
      "Epoch 77/80\n",
      "41/41 [==============================] - 0s 7ms/step - loss: 0.0387 - val_loss: 0.0466\n",
      "Epoch 78/80\n",
      "41/41 [==============================] - 0s 6ms/step - loss: 0.0383 - val_loss: 0.0470\n",
      "Epoch 79/80\n",
      "41/41 [==============================] - 0s 6ms/step - loss: 0.0390 - val_loss: 0.0464\n",
      "Epoch 80/80\n",
      "41/41 [==============================] - 0s 5ms/step - loss: 0.0384 - val_loss: 0.0467\n"
     ]
    },
    {
     "data": {
      "text/plain": [
       "<keras.callbacks.History at 0x7f7f4d127e50>"
      ]
     },
     "execution_count": 20,
     "metadata": {},
     "output_type": "execute_result"
    }
   ],
   "source": [
    "model_2.fit(x=x_train, y=y_train, epochs=80, \n",
    "          validation_data=(x_test,y_test))"
   ]
  },
  {
   "cell_type": "code",
   "execution_count": 21,
   "id": "bbc15573",
   "metadata": {},
   "outputs": [
    {
     "data": {
      "text/plain": [
       "<AxesSubplot:>"
      ]
     },
     "execution_count": 21,
     "metadata": {},
     "output_type": "execute_result"
    },
    {
     "data": {
      "image/png": "[encoded data removed]",
      "text/plain": [
       "<Figure size 432x288 with 1 Axes>"
      ]
     },
     "metadata": {
      "needs_background": "light"
     },
     "output_type": "display_data"
    }
   ],
   "source": [
    "model_2_losses = pd.DataFrame(model_2.history.history)\n",
    "model_2_losses.plot()"
   ]
  },
  {
   "cell_type": "code",
   "execution_count": 22,
   "id": "8e2f63c4",
   "metadata": {},
   "outputs": [
    {
     "data": {
      "text/html": [
       "<div>\n",
       "<style scoped>\n",
       "    .dataframe tbody tr th:only-of-type {\n",
       "        vertical-align: middle;\n",
       "    }\n",
       "\n",
       "    .dataframe tbody tr th {\n",
       "        vertical-align: top;\n",
       "    }\n",
       "\n",
       "    .dataframe thead th {\n",
       "        text-align: right;\n",
       "    }\n",
       "</style>\n",
       "<table border=\"1\" class=\"dataframe\">\n",
       "  <thead>\n",
       "    <tr style=\"text-align: right;\">\n",
       "      <th></th>\n",
       "      <th>Predict</th>\n",
       "      <th>Actual</th>\n",
       "    </tr>\n",
       "  </thead>\n",
       "  <tbody>\n",
       "    <tr>\n",
       "      <th>0</th>\n",
       "      <td>0.597726</td>\n",
       "      <td>0.795699</td>\n",
       "    </tr>\n",
       "    <tr>\n",
       "      <th>1</th>\n",
       "      <td>0.585310</td>\n",
       "      <td>0.634409</td>\n",
       "    </tr>\n",
       "    <tr>\n",
       "      <th>2</th>\n",
       "      <td>0.650767</td>\n",
       "      <td>0.806452</td>\n",
       "    </tr>\n",
       "    <tr>\n",
       "      <th>3</th>\n",
       "      <td>0.672480</td>\n",
       "      <td>0.000000</td>\n",
       "    </tr>\n",
       "    <tr>\n",
       "      <th>4</th>\n",
       "      <td>0.586059</td>\n",
       "      <td>0.634409</td>\n",
       "    </tr>\n",
       "    <tr>\n",
       "      <th>5</th>\n",
       "      <td>0.704513</td>\n",
       "      <td>0.838710</td>\n",
       "    </tr>\n",
       "    <tr>\n",
       "      <th>6</th>\n",
       "      <td>0.629139</td>\n",
       "      <td>0.580645</td>\n",
       "    </tr>\n",
       "    <tr>\n",
       "      <th>7</th>\n",
       "      <td>0.617720</td>\n",
       "      <td>0.526882</td>\n",
       "    </tr>\n",
       "    <tr>\n",
       "      <th>8</th>\n",
       "      <td>0.678732</td>\n",
       "      <td>0.569892</td>\n",
       "    </tr>\n",
       "    <tr>\n",
       "      <th>9</th>\n",
       "      <td>0.675380</td>\n",
       "      <td>0.817204</td>\n",
       "    </tr>\n",
       "  </tbody>\n",
       "</table>\n",
       "</div>"
      ],
      "text/plain": [
       "    Predict    Actual\n",
       "0  0.597726  0.795699\n",
       "1  0.585310  0.634409\n",
       "2  0.650767  0.806452\n",
       "3  0.672480  0.000000\n",
       "4  0.586059  0.634409\n",
       "5  0.704513  0.838710\n",
       "6  0.629139  0.580645\n",
       "7  0.617720  0.526882\n",
       "8  0.678732  0.569892\n",
       "9  0.675380  0.817204"
      ]
     },
     "execution_count": 22,
     "metadata": {},
     "output_type": "execute_result"
    }
   ],
   "source": [
    "predictions = model_2.predict(x_test)\n",
    "sample = pd.DataFrame(predictions,columns=['Predict'])\n",
    "sample['Actual']=y_test\n",
    "sample.head(10)"
   ]
  },
  {
   "cell_type": "code",
   "execution_count": 23,
   "id": "170077f6",
   "metadata": {},
   "outputs": [
    {
     "data": {
      "text/plain": [
       "0.16795562873416797"
      ]
     },
     "execution_count": 23,
     "metadata": {},
     "output_type": "execute_result"
    }
   ],
   "source": [
    "mean_absolute_error(y_test,predictions)"
   ]
  },
  {
   "cell_type": "code",
   "execution_count": 24,
   "id": "f6bfe4dc",
   "metadata": {},
   "outputs": [
    {
     "name": "stdout",
     "output_type": "stream",
     "text": [
      "RMSE: \n"
     ]
    },
    {
     "data": {
      "text/plain": [
       "0.21611426812108933"
      ]
     },
     "execution_count": 24,
     "metadata": {},
     "output_type": "execute_result"
    }
   ],
   "source": [
    "print(\"RMSE: \")\n",
    "np.sqrt(mean_squared_error(y_test,predictions))"
   ]
  }
 ],
 "metadata": {
  "kernelspec": {
   "display_name": "Python 3 (ipykernel)",
   "language": "python",
   "name": "python3"
  },
  "language_info": {
   "codemirror_mode": {
    "name": "ipython",
    "version": 3
   },
   "file_extension": ".py",
   "mimetype": "text/x-python",
   "name": "python",
   "nbconvert_exporter": "python",
   "pygments_lexer": "ipython3",
   "version": "3.9.7"
  }
 },
 "nbformat": 4,
 "nbformat_minor": 5
}
