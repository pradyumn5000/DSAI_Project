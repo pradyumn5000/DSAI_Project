{
 "cells": [
  {
   "cell_type": "code",
   "execution_count": 1,
   "id": "b6bda306",
   "metadata": {},
   "outputs": [],
   "source": [
    "# DataFrame\n",
    "import pandas as pd\n",
    "\n",
    "# Matplot\n",
    "import matplotlib.pyplot as plt\n",
    "%matplotlib inline\n",
    "\n",
    "# Scikit-learn\n",
    "from sklearn.model_selection import train_test_split\n",
    "from sklearn.metrics import confusion_matrix, classification_report, accuracy_score\n",
    "from sklearn.metrics import mean_absolute_error,mean_squared_error\n",
    "\n",
    "\n",
    "# Keras\n",
    "from keras.models import Sequential\n",
    "from keras.layers import Activation, Dense, Dropout, Embedding, Flatten, Conv1D, MaxPooling1D, LSTM\n",
    "from keras.callbacks import EarlyStopping\n",
    "from keras import utils\n",
    "\n",
    "# Utility\n",
    "import numpy as np\n",
    "import time"
   ]
  },
  {
   "cell_type": "code",
   "execution_count": 2,
   "id": "79154764",
   "metadata": {},
   "outputs": [],
   "source": [
    "#Importing Dataset\n",
    "data = pd.read_csv('Datasets/cleaned_data.csv')\n",
    "data = data.drop(['Unnamed: 0'], axis = 1)"
   ]
  },
  {
   "cell_type": "code",
   "execution_count": 3,
   "id": "04978c91",
   "metadata": {},
   "outputs": [
    {
     "name": "stdout",
     "output_type": "stream",
     "text": [
      "<class 'pandas.core.frame.DataFrame'>\n",
      "RangeIndex: 1266 entries, 0 to 1265\n",
      "Data columns (total 17 columns):\n",
      " #   Column              Non-Null Count  Dtype  \n",
      "---  ------              --------------  -----  \n",
      " 0   album_total_tracks  1266 non-null   float64\n",
      " 1   duration_ms         1266 non-null   float64\n",
      " 2   popularity          1266 non-null   float64\n",
      " 3   danceability        1266 non-null   float64\n",
      " 4   energy              1266 non-null   float64\n",
      " 5   key                 1266 non-null   float64\n",
      " 6   loudness            1266 non-null   float64\n",
      " 7   mode                1266 non-null   float64\n",
      " 8   speechiness         1266 non-null   float64\n",
      " 9   acousticness        1266 non-null   float64\n",
      " 10  instrumentalness    1266 non-null   float64\n",
      " 11  liveness            1266 non-null   float64\n",
      " 12  valence             1266 non-null   float64\n",
      " 13  tempo               1266 non-null   float64\n",
      " 14  time_signature      1266 non-null   float64\n",
      " 15  artist_songs        1266 non-null   float64\n",
      " 16  artist_popularity   1266 non-null   float64\n",
      "dtypes: float64(17)\n",
      "memory usage: 168.3 KB\n"
     ]
    }
   ],
   "source": [
    "# making a new dataset with only numerical data\n",
    "numer_data = data.select_dtypes(include=['float64','int64'])\n",
    "numer_data.info()"
   ]
  },
  {
   "cell_type": "markdown",
   "id": "3772f353",
   "metadata": {},
   "source": [
    "## Machine Learning model - Neural Network"
   ]
  },
  {
   "cell_type": "code",
   "execution_count": 4,
   "id": "2deeb3ee",
   "metadata": {},
   "outputs": [
    {
     "name": "stdout",
     "output_type": "stream",
     "text": [
      "TRAIN size: 1012\n",
      "TEST size: 254\n"
     ]
    }
   ],
   "source": [
    "# Split into train and test dataset.\n",
    "data_train, data_test = train_test_split(numer_data, test_size=0.2, random_state=42)\n",
    "print(\"TRAIN size:\", len(data_train))\n",
    "print(\"TEST size:\", len(data_test))"
   ]
  },
  {
   "cell_type": "code",
   "execution_count": 5,
   "id": "7930fad9",
   "metadata": {},
   "outputs": [
    {
     "data": {
      "text/plain": [
       "array([[0.11235955, 0.09324158, 0.58732057, ..., 0.19585245, 0.14054054,\n",
       "        0.02666667],\n",
       "       [0.16853933, 0.09595896, 0.79186603, ..., 0.27785684, 0.27702703,\n",
       "        0.84518519],\n",
       "       [0.1011236 , 0.11722543, 0.59449761, ..., 0.39201621, 0.06351351,\n",
       "        0.07925926],\n",
       "       ...,\n",
       "       [0.07865169, 0.14884733, 0.19497608, ..., 0.69624001, 0.31081081,\n",
       "        0.13851852],\n",
       "       [0.14606742, 0.08290859, 0.33971292, ..., 0.245111  , 0.19459459,\n",
       "        0.00666667],\n",
       "       [0.11235955, 0.23380658, 0.25837321, ..., 0.16413586, 0.27567568,\n",
       "        0.20814815]])"
      ]
     },
     "execution_count": 5,
     "metadata": {},
     "output_type": "execute_result"
    }
   ],
   "source": [
    "x_train = data_train.drop(['popularity', 'time_signature'], axis = 1).values\n",
    "x_train"
   ]
  },
  {
   "cell_type": "code",
   "execution_count": 6,
   "id": "aef8ae3b",
   "metadata": {},
   "outputs": [
    {
     "data": {
      "text/plain": [
       "array([[0.05617978, 0.14133498, 0.66746411, ..., 0.51726241, 0.18648649,\n",
       "        0.00666667],\n",
       "       [0.16853933, 0.08154934, 0.31578947, ..., 0.61617342, 0.10405405,\n",
       "        0.01037037],\n",
       "       [0.15730337, 0.19202342, 0.20813397, ..., 0.66545103, 0.14189189,\n",
       "        0.01851852],\n",
       "       ...,\n",
       "       [0.16853933, 0.16839201, 0.78229665, ..., 0.4999174 , 0.1972973 ,\n",
       "        0.27111111],\n",
       "       [0.13483146, 0.12457278, 0.62440191, ..., 0.47503717, 0.4972973 ,\n",
       "        0.53777778],\n",
       "       [0.13483146, 0.06887162, 0.54066986, ..., 0.69025503, 0.4972973 ,\n",
       "        0.53777778]])"
      ]
     },
     "execution_count": 6,
     "metadata": {},
     "output_type": "execute_result"
    }
   ],
   "source": [
    "x_test = data_test.drop(['popularity', 'time_signature'], axis = 1).values\n",
    "x_test"
   ]
  },
  {
   "cell_type": "code",
   "execution_count": 7,
   "id": "38e14e22",
   "metadata": {},
   "outputs": [
    {
     "data": {
      "text/plain": [
       "array([0.7311828 , 0.82795699, 0.68817204, ..., 0.88172043, 0.5483871 ,\n",
       "       0.82795699])"
      ]
     },
     "execution_count": 7,
     "metadata": {},
     "output_type": "execute_result"
    }
   ],
   "source": [
    "y_train = data_train['popularity'].values\n",
    "y_train"
   ]
  },
  {
   "cell_type": "code",
   "execution_count": 8,
   "id": "0643e794",
   "metadata": {},
   "outputs": [
    {
     "data": {
      "text/plain": [
       "array([0.30107527, 0.66666667, 0.70967742, 0.01075269, 0.64516129,\n",
       "       0.65591398, 0.72043011, 0.55913978, 0.84946237, 0.88172043,\n",
       "       0.61290323, 0.69892473, 0.02150538, 0.37634409, 0.80645161,\n",
       "       0.56989247, 0.60215054, 0.92473118, 0.72043011, 0.        ,\n",
       "       0.        , 0.56989247, 0.60215054, 0.66666667, 0.83870968,\n",
       "       0.52688172, 0.69892473, 0.43010753, 0.61290323, 0.72043011,\n",
       "       0.40860215, 0.64516129, 0.80645161, 0.88172043, 0.74193548,\n",
       "       0.58064516, 0.72043011, 0.04301075, 0.86021505, 0.68817204,\n",
       "       0.88172043, 0.64516129, 0.82795699, 0.66666667, 0.83870968,\n",
       "       0.77419355, 0.8172043 , 0.75268817, 0.        , 0.2688172 ,\n",
       "       0.6344086 , 0.83870968, 0.68817204, 0.65591398, 0.20430108,\n",
       "       0.53763441, 0.67741935, 0.38709677, 0.8172043 , 0.51612903,\n",
       "       0.50537634, 0.90322581, 0.92473118, 0.61290323, 0.35483871,\n",
       "       0.51612903, 0.76344086, 0.83870968, 0.86021505, 0.53763441,\n",
       "       0.76344086, 0.84946237, 0.43010753, 0.62365591, 0.93548387,\n",
       "       0.8172043 , 0.50537634, 0.58064516, 0.72043011, 0.92473118,\n",
       "       0.64516129, 0.53763441, 0.7311828 , 0.68817204, 0.5483871 ,\n",
       "       0.74193548, 0.66666667, 0.77419355, 0.46236559, 0.32258065,\n",
       "       0.40860215, 0.87096774, 0.47311828, 0.35483871, 0.83870968,\n",
       "       0.55913978, 0.        , 0.08602151, 0.84946237, 0.82795699,\n",
       "       0.74193548, 0.34408602, 0.75268817, 0.67741935, 0.41935484,\n",
       "       0.40860215, 0.69892473, 0.77419355, 0.72043011, 0.72043011,\n",
       "       0.90322581, 0.88172043, 0.65591398, 0.77419355, 0.68817204,\n",
       "       0.78494624, 0.87096774, 0.79569892, 0.87096774, 0.62365591,\n",
       "       0.70967742, 0.62365591, 0.66666667, 0.08602151, 0.92473118,\n",
       "       0.87096774, 0.70967742, 0.55913978, 0.6344086 , 0.59139785,\n",
       "       0.76344086, 0.67741935, 0.72043011, 0.77419355, 0.79569892,\n",
       "       0.77419355, 0.62365591, 0.        , 0.68817204, 0.43010753,\n",
       "       0.70967742, 0.64516129, 0.35483871, 0.69892473, 0.61290323,\n",
       "       0.60215054, 0.33333333, 0.74193548, 0.77419355, 0.58064516,\n",
       "       0.79569892, 0.83870968, 0.51612903, 0.74193548, 0.55913978,\n",
       "       0.47311828, 0.64516129, 0.78494624, 0.84946237, 0.74193548,\n",
       "       0.49462366, 0.68817204, 0.50537634, 0.52688172, 0.75268817,\n",
       "       0.88172043, 0.44086022, 0.62365591, 0.53763441, 0.37634409,\n",
       "       0.82795699, 0.4516129 , 0.52688172, 0.86021505, 0.84946237,\n",
       "       0.67741935, 0.70967742, 0.87096774, 0.02150538, 0.68817204,\n",
       "       0.53763441, 0.62365591, 0.60215054, 0.39784946, 0.78494624,\n",
       "       0.64516129, 0.83870968, 0.64516129, 0.52688172, 0.74193548,\n",
       "       0.64516129, 0.68817204, 0.64516129, 0.88172043, 0.82795699,\n",
       "       0.68817204, 0.59139785, 0.23655914, 0.82795699, 0.56989247,\n",
       "       0.44086022, 0.46236559, 0.41935484, 0.80645161, 0.46236559,\n",
       "       0.66666667, 0.84946237, 0.62365591, 0.01075269, 0.89247312,\n",
       "       0.61290323, 0.89247312, 0.72043011, 0.83870968, 0.7311828 ,\n",
       "       0.        , 0.65591398, 0.69892473, 0.7311828 , 0.66666667,\n",
       "       0.82795699, 0.74193548, 0.5483871 , 0.51612903, 0.56989247,\n",
       "       0.5483871 , 0.64516129, 0.79569892, 0.64516129, 0.48387097,\n",
       "       0.67741935, 0.47311828, 0.83870968, 0.50537634, 0.78494624,\n",
       "       0.66666667, 0.51612903, 0.49462366, 0.74193548, 0.01075269,\n",
       "       0.5483871 , 0.60215054, 0.68817204, 0.6344086 , 0.82795699,\n",
       "       0.65591398, 0.6344086 , 0.43010753, 0.44086022, 0.79569892,\n",
       "       0.68817204, 0.69892473, 0.53763441, 0.56989247])"
      ]
     },
     "execution_count": 8,
     "metadata": {},
     "output_type": "execute_result"
    }
   ],
   "source": [
    "y_test = data_test['popularity'].values\n",
    "y_test"
   ]
  },
  {
   "cell_type": "code",
   "execution_count": 9,
   "id": "5317ac6f",
   "metadata": {},
   "outputs": [
    {
     "name": "stderr",
     "output_type": "stream",
     "text": [
      "2022-04-23 20:49:43.764585: I tensorflow/core/platform/cpu_feature_guard.cc:151] This TensorFlow binary is optimized with oneAPI Deep Neural Network Library (oneDNN) to use the following CPU instructions in performance-critical operations:  AVX2 FMA\n",
      "To enable them in other operations, rebuild TensorFlow with the appropriate compiler flags.\n"
     ]
    }
   ],
   "source": [
    "# Building Model\n",
    "callback = EarlyStopping(monitor='val_loss', patience=8)\n",
    "model = Sequential()\n",
    "  \n",
    "model.add(Dense(15, activation='relu'))\n",
    "model.add(Dropout(0.5))\n",
    "model.add(Dense(1, activation='relu'))\n",
    "model.compile(optimizer='adam', loss='mse')\n",
    "\n",
    "model_1 = Sequential()\n",
    "  \n",
    "model_1.add(Dense(15, activation='relu'))\n",
    "model_1.add(Dropout(0.5))\n",
    "model_1.add(Dense(10, activation='relu'))\n",
    "model_1.add(Dense(5, activation='relu'))\n",
    "model_1.add(Dense(1))\n",
    "model_1.compile(optimizer='adam', loss='mse')\n",
    "\n",
    "model_2 = Sequential()\n",
    "  \n",
    "model_2.add(Dense(43, activation='relu'))\n",
    "model_2.add(Dense(10, activation='relu'))\n",
    "model_2.add(Dense(1))\n",
    "model_2.compile(optimizer='adam', loss='mse')"
   ]
  },
  {
   "cell_type": "code",
   "execution_count": 10,
   "id": "d6664289",
   "metadata": {},
   "outputs": [
    {
     "name": "stdout",
     "output_type": "stream",
     "text": [
      "Epoch 1/80\n",
      "32/32 [==============================] - 1s 7ms/step - loss: 0.2559 - val_loss: 0.1028\n",
      "Epoch 2/80\n",
      "32/32 [==============================] - 0s 3ms/step - loss: 0.1966 - val_loss: 0.0682\n",
      "Epoch 3/80\n",
      "32/32 [==============================] - 0s 2ms/step - loss: 0.1531 - val_loss: 0.0611\n",
      "Epoch 4/80\n",
      "32/32 [==============================] - 0s 2ms/step - loss: 0.1218 - val_loss: 0.0583\n",
      "Epoch 5/80\n",
      "32/32 [==============================] - 0s 2ms/step - loss: 0.1009 - val_loss: 0.0534\n",
      "Epoch 6/80\n",
      "32/32 [==============================] - 0s 3ms/step - loss: 0.0967 - val_loss: 0.0544\n",
      "Epoch 7/80\n",
      "32/32 [==============================] - 0s 2ms/step - loss: 0.0907 - val_loss: 0.0508\n",
      "Epoch 8/80\n",
      "32/32 [==============================] - 0s 2ms/step - loss: 0.0813 - val_loss: 0.0484\n",
      "Epoch 9/80\n",
      "32/32 [==============================] - 0s 3ms/step - loss: 0.0740 - val_loss: 0.0482\n",
      "Epoch 10/80\n",
      "32/32 [==============================] - 0s 3ms/step - loss: 0.0709 - val_loss: 0.0464\n",
      "Epoch 11/80\n",
      "32/32 [==============================] - 0s 4ms/step - loss: 0.0693 - val_loss: 0.0466\n",
      "Epoch 12/80\n",
      "32/32 [==============================] - 0s 3ms/step - loss: 0.0671 - val_loss: 0.0454\n",
      "Epoch 13/80\n",
      "32/32 [==============================] - 0s 2ms/step - loss: 0.0626 - val_loss: 0.0456\n",
      "Epoch 14/80\n",
      "32/32 [==============================] - 0s 4ms/step - loss: 0.0564 - val_loss: 0.0443\n",
      "Epoch 15/80\n",
      "32/32 [==============================] - 0s 2ms/step - loss: 0.0557 - val_loss: 0.0445\n",
      "Epoch 16/80\n",
      "32/32 [==============================] - 0s 2ms/step - loss: 0.0533 - val_loss: 0.0449\n",
      "Epoch 17/80\n",
      "32/32 [==============================] - 0s 3ms/step - loss: 0.0501 - val_loss: 0.0440\n",
      "Epoch 18/80\n",
      "32/32 [==============================] - 0s 4ms/step - loss: 0.0507 - val_loss: 0.0439\n",
      "Epoch 19/80\n",
      "32/32 [==============================] - 0s 3ms/step - loss: 0.0461 - val_loss: 0.0436\n",
      "Epoch 20/80\n",
      "32/32 [==============================] - 0s 3ms/step - loss: 0.0462 - val_loss: 0.0432\n",
      "Epoch 21/80\n",
      "32/32 [==============================] - 0s 3ms/step - loss: 0.0464 - val_loss: 0.0431\n",
      "Epoch 22/80\n",
      "32/32 [==============================] - 0s 4ms/step - loss: 0.0433 - val_loss: 0.0432\n",
      "Epoch 23/80\n",
      "32/32 [==============================] - 0s 3ms/step - loss: 0.0443 - val_loss: 0.0429\n",
      "Epoch 24/80\n",
      "32/32 [==============================] - 0s 4ms/step - loss: 0.0433 - val_loss: 0.0430\n",
      "Epoch 25/80\n",
      "32/32 [==============================] - 0s 3ms/step - loss: 0.0415 - val_loss: 0.0426\n",
      "Epoch 26/80\n",
      "32/32 [==============================] - 0s 4ms/step - loss: 0.0411 - val_loss: 0.0428\n",
      "Epoch 27/80\n",
      "32/32 [==============================] - 0s 3ms/step - loss: 0.0410 - val_loss: 0.0428\n",
      "Epoch 28/80\n",
      "32/32 [==============================] - 0s 3ms/step - loss: 0.0403 - val_loss: 0.0426\n",
      "Epoch 29/80\n",
      "32/32 [==============================] - 0s 3ms/step - loss: 0.0400 - val_loss: 0.0426\n",
      "Epoch 30/80\n",
      "32/32 [==============================] - 0s 3ms/step - loss: 0.0387 - val_loss: 0.0424\n",
      "Epoch 31/80\n",
      "32/32 [==============================] - 0s 3ms/step - loss: 0.0385 - val_loss: 0.0425\n",
      "Epoch 32/80\n",
      "32/32 [==============================] - 0s 4ms/step - loss: 0.0391 - val_loss: 0.0424\n",
      "Epoch 33/80\n",
      "32/32 [==============================] - 0s 4ms/step - loss: 0.0377 - val_loss: 0.0423\n",
      "Epoch 34/80\n",
      "32/32 [==============================] - 0s 3ms/step - loss: 0.0373 - val_loss: 0.0426\n",
      "Epoch 35/80\n",
      "32/32 [==============================] - 0s 4ms/step - loss: 0.0365 - val_loss: 0.0427\n",
      "Epoch 36/80\n",
      "32/32 [==============================] - 0s 3ms/step - loss: 0.0376 - val_loss: 0.0426\n",
      "Epoch 37/80\n",
      "32/32 [==============================] - 0s 4ms/step - loss: 0.0368 - val_loss: 0.0428\n",
      "Epoch 38/80\n",
      "32/32 [==============================] - 0s 7ms/step - loss: 0.0371 - val_loss: 0.0428\n",
      "Epoch 39/80\n",
      "32/32 [==============================] - 0s 4ms/step - loss: 0.0371 - val_loss: 0.0429\n",
      "Epoch 40/80\n",
      "32/32 [==============================] - 0s 2ms/step - loss: 0.0358 - val_loss: 0.0429\n",
      "Epoch 41/80\n",
      "32/32 [==============================] - 0s 3ms/step - loss: 0.0362 - val_loss: 0.0427\n"
     ]
    },
    {
     "data": {
      "text/plain": [
       "<keras.callbacks.History at 0x7f8c33d5dcd0>"
      ]
     },
     "execution_count": 10,
     "metadata": {},
     "output_type": "execute_result"
    }
   ],
   "source": [
    "model.fit(x=x_train, y=y_train, epochs=80, \n",
    "          validation_data=(x_test,y_test),\n",
    "         callbacks = callback)"
   ]
  },
  {
   "cell_type": "code",
   "execution_count": 11,
   "id": "efc83b0f",
   "metadata": {},
   "outputs": [
    {
     "data": {
      "text/plain": [
       "<AxesSubplot:>"
      ]
     },
     "execution_count": 11,
     "metadata": {},
     "output_type": "execute_result"
    },
    {
     "data": {
      "image/png": "[encoded data removed]",
      "text/plain": [
       "<Figure size 432x288 with 1 Axes>"
      ]
     },
     "metadata": {
      "needs_background": "light"
     },
     "output_type": "display_data"
    }
   ],
   "source": [
    "model_losses = pd.DataFrame(model.history.history)\n",
    "model_losses.plot()"
   ]
  },
  {
   "cell_type": "code",
   "execution_count": 12,
   "id": "1cb15e70",
   "metadata": {},
   "outputs": [
    {
     "data": {
      "text/html": [
       "<div>\n",
       "<style scoped>\n",
       "    .dataframe tbody tr th:only-of-type {\n",
       "        vertical-align: middle;\n",
       "    }\n",
       "\n",
       "    .dataframe tbody tr th {\n",
       "        vertical-align: top;\n",
       "    }\n",
       "\n",
       "    .dataframe thead th {\n",
       "        text-align: right;\n",
       "    }\n",
       "</style>\n",
       "<table border=\"1\" class=\"dataframe\">\n",
       "  <thead>\n",
       "    <tr style=\"text-align: right;\">\n",
       "      <th></th>\n",
       "      <th>Predict</th>\n",
       "      <th>Actual</th>\n",
       "    </tr>\n",
       "  </thead>\n",
       "  <tbody>\n",
       "    <tr>\n",
       "      <th>0</th>\n",
       "      <td>0.632876</td>\n",
       "      <td>0.301075</td>\n",
       "    </tr>\n",
       "    <tr>\n",
       "      <th>1</th>\n",
       "      <td>0.622410</td>\n",
       "      <td>0.666667</td>\n",
       "    </tr>\n",
       "    <tr>\n",
       "      <th>2</th>\n",
       "      <td>0.626283</td>\n",
       "      <td>0.709677</td>\n",
       "    </tr>\n",
       "    <tr>\n",
       "      <th>3</th>\n",
       "      <td>0.628516</td>\n",
       "      <td>0.010753</td>\n",
       "    </tr>\n",
       "    <tr>\n",
       "      <th>4</th>\n",
       "      <td>0.637588</td>\n",
       "      <td>0.645161</td>\n",
       "    </tr>\n",
       "    <tr>\n",
       "      <th>5</th>\n",
       "      <td>0.645293</td>\n",
       "      <td>0.655914</td>\n",
       "    </tr>\n",
       "    <tr>\n",
       "      <th>6</th>\n",
       "      <td>0.663128</td>\n",
       "      <td>0.720430</td>\n",
       "    </tr>\n",
       "    <tr>\n",
       "      <th>7</th>\n",
       "      <td>0.638882</td>\n",
       "      <td>0.559140</td>\n",
       "    </tr>\n",
       "    <tr>\n",
       "      <th>8</th>\n",
       "      <td>0.671178</td>\n",
       "      <td>0.849462</td>\n",
       "    </tr>\n",
       "    <tr>\n",
       "      <th>9</th>\n",
       "      <td>0.637522</td>\n",
       "      <td>0.881720</td>\n",
       "    </tr>\n",
       "  </tbody>\n",
       "</table>\n",
       "</div>"
      ],
      "text/plain": [
       "    Predict    Actual\n",
       "0  0.632876  0.301075\n",
       "1  0.622410  0.666667\n",
       "2  0.626283  0.709677\n",
       "3  0.628516  0.010753\n",
       "4  0.637588  0.645161\n",
       "5  0.645293  0.655914\n",
       "6  0.663128  0.720430\n",
       "7  0.638882  0.559140\n",
       "8  0.671178  0.849462\n",
       "9  0.637522  0.881720"
      ]
     },
     "execution_count": 12,
     "metadata": {},
     "output_type": "execute_result"
    }
   ],
   "source": [
    "predictions = model.predict(x_test)\n",
    "sample = pd.DataFrame(predictions,columns=['Predict'])\n",
    "sample['Actual']=y_test\n",
    "sample.head(10)"
   ]
  },
  {
   "cell_type": "code",
   "execution_count": 13,
   "id": "c655229b",
   "metadata": {},
   "outputs": [
    {
     "data": {
      "text/plain": [
       "0.15167593821755776"
      ]
     },
     "execution_count": 13,
     "metadata": {},
     "output_type": "execute_result"
    }
   ],
   "source": [
    "mean_absolute_error(y_test,predictions)"
   ]
  },
  {
   "cell_type": "code",
   "execution_count": 14,
   "id": "1246b14f",
   "metadata": {},
   "outputs": [
    {
     "name": "stdout",
     "output_type": "stream",
     "text": [
      "RMSE: \n"
     ]
    },
    {
     "data": {
      "text/plain": [
       "0.20671855801380068"
      ]
     },
     "execution_count": 14,
     "metadata": {},
     "output_type": "execute_result"
    }
   ],
   "source": [
    "print(\"RMSE: \")\n",
    "np.sqrt(mean_squared_error(y_test,predictions))"
   ]
  },
  {
   "cell_type": "code",
   "execution_count": 15,
   "id": "2738ce6c",
   "metadata": {},
   "outputs": [
    {
     "name": "stdout",
     "output_type": "stream",
     "text": [
      "Epoch 1/80\n",
      "32/32 [==============================] - 1s 6ms/step - loss: 0.3867 - val_loss: 0.2086\n",
      "Epoch 2/80\n",
      "32/32 [==============================] - 0s 2ms/step - loss: 0.1250 - val_loss: 0.0836\n",
      "Epoch 3/80\n",
      "32/32 [==============================] - 0s 2ms/step - loss: 0.0886 - val_loss: 0.0828\n",
      "Epoch 4/80\n",
      "32/32 [==============================] - 0s 3ms/step - loss: 0.0751 - val_loss: 0.0774\n",
      "Epoch 5/80\n",
      "32/32 [==============================] - 0s 4ms/step - loss: 0.0667 - val_loss: 0.0697\n",
      "Epoch 6/80\n",
      "32/32 [==============================] - 0s 3ms/step - loss: 0.0578 - val_loss: 0.0703\n",
      "Epoch 7/80\n",
      "32/32 [==============================] - 0s 2ms/step - loss: 0.0574 - val_loss: 0.0722\n",
      "Epoch 8/80\n",
      "32/32 [==============================] - 0s 2ms/step - loss: 0.0570 - val_loss: 0.0672\n",
      "Epoch 9/80\n",
      "32/32 [==============================] - 0s 3ms/step - loss: 0.0507 - val_loss: 0.0678\n",
      "Epoch 10/80\n",
      "32/32 [==============================] - 0s 3ms/step - loss: 0.0465 - val_loss: 0.0633\n",
      "Epoch 11/80\n",
      "32/32 [==============================] - 0s 4ms/step - loss: 0.0455 - val_loss: 0.0651\n",
      "Epoch 12/80\n",
      "32/32 [==============================] - 0s 3ms/step - loss: 0.0442 - val_loss: 0.0603\n",
      "Epoch 13/80\n",
      "32/32 [==============================] - 0s 4ms/step - loss: 0.0419 - val_loss: 0.0622\n",
      "Epoch 14/80\n",
      "32/32 [==============================] - 0s 3ms/step - loss: 0.0417 - val_loss: 0.0593\n",
      "Epoch 15/80\n",
      "32/32 [==============================] - 0s 4ms/step - loss: 0.0413 - val_loss: 0.0582\n",
      "Epoch 16/80\n",
      "32/32 [==============================] - 0s 4ms/step - loss: 0.0392 - val_loss: 0.0576\n",
      "Epoch 17/80\n",
      "32/32 [==============================] - 0s 3ms/step - loss: 0.0405 - val_loss: 0.0587\n",
      "Epoch 18/80\n",
      "32/32 [==============================] - 0s 3ms/step - loss: 0.0388 - val_loss: 0.0596\n",
      "Epoch 19/80\n",
      "32/32 [==============================] - 0s 3ms/step - loss: 0.0398 - val_loss: 0.0563\n",
      "Epoch 20/80\n",
      "32/32 [==============================] - 0s 3ms/step - loss: 0.0384 - val_loss: 0.0555\n",
      "Epoch 21/80\n",
      "32/32 [==============================] - 0s 3ms/step - loss: 0.0380 - val_loss: 0.0532\n",
      "Epoch 22/80\n",
      "32/32 [==============================] - 0s 3ms/step - loss: 0.0385 - val_loss: 0.0557\n",
      "Epoch 23/80\n",
      "32/32 [==============================] - 0s 4ms/step - loss: 0.0379 - val_loss: 0.0534\n",
      "Epoch 24/80\n",
      "32/32 [==============================] - 0s 3ms/step - loss: 0.0383 - val_loss: 0.0532\n",
      "Epoch 25/80\n",
      "32/32 [==============================] - 0s 3ms/step - loss: 0.0380 - val_loss: 0.0529\n",
      "Epoch 26/80\n",
      "32/32 [==============================] - 0s 4ms/step - loss: 0.0386 - val_loss: 0.0541\n",
      "Epoch 27/80\n",
      "32/32 [==============================] - 0s 3ms/step - loss: 0.0383 - val_loss: 0.0561\n",
      "Epoch 28/80\n",
      "32/32 [==============================] - 0s 3ms/step - loss: 0.0371 - val_loss: 0.0515\n",
      "Epoch 29/80\n",
      "32/32 [==============================] - 0s 3ms/step - loss: 0.0372 - val_loss: 0.0525\n",
      "Epoch 30/80\n",
      "32/32 [==============================] - 0s 3ms/step - loss: 0.0374 - val_loss: 0.0499\n",
      "Epoch 31/80\n",
      "32/32 [==============================] - 0s 3ms/step - loss: 0.0377 - val_loss: 0.0518\n",
      "Epoch 32/80\n",
      "32/32 [==============================] - 0s 3ms/step - loss: 0.0369 - val_loss: 0.0515\n",
      "Epoch 33/80\n",
      "32/32 [==============================] - 0s 3ms/step - loss: 0.0365 - val_loss: 0.0490\n",
      "Epoch 34/80\n",
      "32/32 [==============================] - 0s 3ms/step - loss: 0.0370 - val_loss: 0.0500\n",
      "Epoch 35/80\n",
      "32/32 [==============================] - 0s 3ms/step - loss: 0.0368 - val_loss: 0.0493\n",
      "Epoch 36/80\n",
      "32/32 [==============================] - 0s 3ms/step - loss: 0.0372 - val_loss: 0.0505\n",
      "Epoch 37/80\n",
      "32/32 [==============================] - 0s 3ms/step - loss: 0.0370 - val_loss: 0.0514\n",
      "Epoch 38/80\n",
      "32/32 [==============================] - 0s 3ms/step - loss: 0.0377 - val_loss: 0.0488\n",
      "Epoch 39/80\n",
      "32/32 [==============================] - 0s 3ms/step - loss: 0.0368 - val_loss: 0.0496\n",
      "Epoch 40/80\n",
      "32/32 [==============================] - 0s 3ms/step - loss: 0.0367 - val_loss: 0.0500\n",
      "Epoch 41/80\n",
      "32/32 [==============================] - 0s 3ms/step - loss: 0.0378 - val_loss: 0.0494\n",
      "Epoch 42/80\n",
      "32/32 [==============================] - 0s 5ms/step - loss: 0.0364 - val_loss: 0.0506\n",
      "Epoch 43/80\n",
      "32/32 [==============================] - 0s 6ms/step - loss: 0.0371 - val_loss: 0.0512\n",
      "Epoch 44/80\n",
      "32/32 [==============================] - 0s 7ms/step - loss: 0.0367 - val_loss: 0.0515\n",
      "Epoch 45/80\n",
      "32/32 [==============================] - 0s 6ms/step - loss: 0.0360 - val_loss: 0.0488\n",
      "Epoch 46/80\n",
      "32/32 [==============================] - 0s 4ms/step - loss: 0.0360 - val_loss: 0.0488\n",
      "Epoch 47/80\n",
      "32/32 [==============================] - 0s 5ms/step - loss: 0.0367 - val_loss: 0.0488\n",
      "Epoch 48/80\n",
      "32/32 [==============================] - 0s 9ms/step - loss: 0.0364 - val_loss: 0.0475\n",
      "Epoch 49/80\n",
      "32/32 [==============================] - 0s 5ms/step - loss: 0.0364 - val_loss: 0.0481\n",
      "Epoch 50/80\n",
      "32/32 [==============================] - 0s 4ms/step - loss: 0.0365 - val_loss: 0.0475\n",
      "Epoch 51/80\n",
      "32/32 [==============================] - 0s 3ms/step - loss: 0.0371 - val_loss: 0.0462\n",
      "Epoch 52/80\n",
      "32/32 [==============================] - 0s 5ms/step - loss: 0.0372 - val_loss: 0.0470\n",
      "Epoch 53/80\n",
      "32/32 [==============================] - 0s 5ms/step - loss: 0.0370 - val_loss: 0.0473\n",
      "Epoch 54/80\n",
      "32/32 [==============================] - 0s 3ms/step - loss: 0.0367 - val_loss: 0.0459\n",
      "Epoch 55/80\n",
      "32/32 [==============================] - 0s 3ms/step - loss: 0.0360 - val_loss: 0.0486\n",
      "Epoch 56/80\n",
      "32/32 [==============================] - 0s 3ms/step - loss: 0.0369 - val_loss: 0.0481\n",
      "Epoch 57/80\n",
      "32/32 [==============================] - 0s 3ms/step - loss: 0.0366 - val_loss: 0.0465\n",
      "Epoch 58/80\n",
      "32/32 [==============================] - 0s 4ms/step - loss: 0.0362 - val_loss: 0.0476\n",
      "Epoch 59/80\n",
      "32/32 [==============================] - 0s 4ms/step - loss: 0.0366 - val_loss: 0.0474\n",
      "Epoch 60/80\n",
      "32/32 [==============================] - 0s 5ms/step - loss: 0.0365 - val_loss: 0.0462\n",
      "Epoch 61/80\n",
      "32/32 [==============================] - 0s 4ms/step - loss: 0.0362 - val_loss: 0.0461\n",
      "Epoch 62/80\n",
      "32/32 [==============================] - 0s 6ms/step - loss: 0.0356 - val_loss: 0.0471\n"
     ]
    },
    {
     "data": {
      "text/plain": [
       "<keras.callbacks.History at 0x7f8c358348e0>"
      ]
     },
     "execution_count": 15,
     "metadata": {},
     "output_type": "execute_result"
    }
   ],
   "source": [
    "model_1.fit(x=x_train, y=y_train, epochs=80, \n",
    "          validation_data=(x_test,y_test),\n",
    "         callbacks = callback)"
   ]
  },
  {
   "cell_type": "code",
   "execution_count": 16,
   "id": "47884d27",
   "metadata": {},
   "outputs": [
    {
     "data": {
      "text/plain": [
       "<AxesSubplot:>"
      ]
     },
     "execution_count": 16,
     "metadata": {},
     "output_type": "execute_result"
    },
    {
     "data": {
      "image/png": "[encoded data removed]",
      "text/plain": [
       "<Figure size 432x288 with 1 Axes>"
      ]
     },
     "metadata": {
      "needs_background": "light"
     },
     "output_type": "display_data"
    }
   ],
   "source": [
    "model_1_losses = pd.DataFrame(model_1.history.history)\n",
    "model_1_losses.plot()"
   ]
  },
  {
   "cell_type": "code",
   "execution_count": 17,
   "id": "5e376996",
   "metadata": {},
   "outputs": [
    {
     "data": {
      "text/html": [
       "<div>\n",
       "<style scoped>\n",
       "    .dataframe tbody tr th:only-of-type {\n",
       "        vertical-align: middle;\n",
       "    }\n",
       "\n",
       "    .dataframe tbody tr th {\n",
       "        vertical-align: top;\n",
       "    }\n",
       "\n",
       "    .dataframe thead th {\n",
       "        text-align: right;\n",
       "    }\n",
       "</style>\n",
       "<table border=\"1\" class=\"dataframe\">\n",
       "  <thead>\n",
       "    <tr style=\"text-align: right;\">\n",
       "      <th></th>\n",
       "      <th>Predict</th>\n",
       "      <th>Actual</th>\n",
       "    </tr>\n",
       "  </thead>\n",
       "  <tbody>\n",
       "    <tr>\n",
       "      <th>0</th>\n",
       "      <td>0.579174</td>\n",
       "      <td>0.301075</td>\n",
       "    </tr>\n",
       "    <tr>\n",
       "      <th>1</th>\n",
       "      <td>0.539062</td>\n",
       "      <td>0.666667</td>\n",
       "    </tr>\n",
       "    <tr>\n",
       "      <th>2</th>\n",
       "      <td>0.543439</td>\n",
       "      <td>0.709677</td>\n",
       "    </tr>\n",
       "    <tr>\n",
       "      <th>3</th>\n",
       "      <td>0.585102</td>\n",
       "      <td>0.010753</td>\n",
       "    </tr>\n",
       "    <tr>\n",
       "      <th>4</th>\n",
       "      <td>0.578119</td>\n",
       "      <td>0.645161</td>\n",
       "    </tr>\n",
       "    <tr>\n",
       "      <th>5</th>\n",
       "      <td>0.580760</td>\n",
       "      <td>0.655914</td>\n",
       "    </tr>\n",
       "    <tr>\n",
       "      <th>6</th>\n",
       "      <td>0.577628</td>\n",
       "      <td>0.720430</td>\n",
       "    </tr>\n",
       "    <tr>\n",
       "      <th>7</th>\n",
       "      <td>0.539982</td>\n",
       "      <td>0.559140</td>\n",
       "    </tr>\n",
       "    <tr>\n",
       "      <th>8</th>\n",
       "      <td>0.585521</td>\n",
       "      <td>0.849462</td>\n",
       "    </tr>\n",
       "    <tr>\n",
       "      <th>9</th>\n",
       "      <td>0.571614</td>\n",
       "      <td>0.881720</td>\n",
       "    </tr>\n",
       "  </tbody>\n",
       "</table>\n",
       "</div>"
      ],
      "text/plain": [
       "    Predict    Actual\n",
       "0  0.579174  0.301075\n",
       "1  0.539062  0.666667\n",
       "2  0.543439  0.709677\n",
       "3  0.585102  0.010753\n",
       "4  0.578119  0.645161\n",
       "5  0.580760  0.655914\n",
       "6  0.577628  0.720430\n",
       "7  0.539982  0.559140\n",
       "8  0.585521  0.849462\n",
       "9  0.571614  0.881720"
      ]
     },
     "execution_count": 17,
     "metadata": {},
     "output_type": "execute_result"
    }
   ],
   "source": [
    "predictions = model_1.predict(x_test)\n",
    "sample = pd.DataFrame(predictions,columns=['Predict'])\n",
    "sample['Actual']=y_test\n",
    "sample.head(10)"
   ]
  },
  {
   "cell_type": "code",
   "execution_count": 18,
   "id": "fe5644f0",
   "metadata": {},
   "outputs": [
    {
     "data": {
      "text/plain": [
       "0.174340172302621"
      ]
     },
     "execution_count": 18,
     "metadata": {},
     "output_type": "execute_result"
    }
   ],
   "source": [
    "mean_absolute_error(y_test,predictions)"
   ]
  },
  {
   "cell_type": "code",
   "execution_count": 19,
   "id": "b9c06dd9",
   "metadata": {},
   "outputs": [
    {
     "name": "stdout",
     "output_type": "stream",
     "text": [
      "RMSE: \n"
     ]
    },
    {
     "data": {
      "text/plain": [
       "0.21704607951869695"
      ]
     },
     "execution_count": 19,
     "metadata": {},
     "output_type": "execute_result"
    }
   ],
   "source": [
    "print(\"RMSE: \")\n",
    "np.sqrt(mean_squared_error(y_test,predictions))"
   ]
  },
  {
   "cell_type": "code",
   "execution_count": 20,
   "id": "25f18f65",
   "metadata": {},
   "outputs": [
    {
     "name": "stdout",
     "output_type": "stream",
     "text": [
      "Epoch 1/80\n",
      "32/32 [==============================] - 1s 7ms/step - loss: 0.0905 - val_loss: 0.0576\n",
      "Epoch 2/80\n",
      "32/32 [==============================] - 0s 3ms/step - loss: 0.0498 - val_loss: 0.0503\n",
      "Epoch 3/80\n",
      "32/32 [==============================] - 0s 3ms/step - loss: 0.0439 - val_loss: 0.0470\n",
      "Epoch 4/80\n",
      "32/32 [==============================] - 0s 3ms/step - loss: 0.0409 - val_loss: 0.0457\n",
      "Epoch 5/80\n",
      "32/32 [==============================] - 0s 3ms/step - loss: 0.0394 - val_loss: 0.0462\n",
      "Epoch 6/80\n",
      "32/32 [==============================] - 0s 4ms/step - loss: 0.0390 - val_loss: 0.0448\n",
      "Epoch 7/80\n",
      "32/32 [==============================] - 0s 4ms/step - loss: 0.0381 - val_loss: 0.0451\n",
      "Epoch 8/80\n",
      "32/32 [==============================] - 0s 3ms/step - loss: 0.0377 - val_loss: 0.0453\n",
      "Epoch 9/80\n",
      "32/32 [==============================] - 0s 4ms/step - loss: 0.0372 - val_loss: 0.0440\n",
      "Epoch 10/80\n",
      "32/32 [==============================] - 0s 2ms/step - loss: 0.0367 - val_loss: 0.0443\n",
      "Epoch 11/80\n",
      "32/32 [==============================] - 0s 2ms/step - loss: 0.0375 - val_loss: 0.0443\n",
      "Epoch 12/80\n",
      "32/32 [==============================] - 0s 3ms/step - loss: 0.0365 - val_loss: 0.0449\n",
      "Epoch 13/80\n",
      "32/32 [==============================] - 0s 3ms/step - loss: 0.0361 - val_loss: 0.0448\n",
      "Epoch 14/80\n",
      "32/32 [==============================] - 0s 2ms/step - loss: 0.0373 - val_loss: 0.0451\n",
      "Epoch 15/80\n",
      "32/32 [==============================] - 0s 2ms/step - loss: 0.0363 - val_loss: 0.0438\n",
      "Epoch 16/80\n",
      "32/32 [==============================] - 0s 2ms/step - loss: 0.0355 - val_loss: 0.0440\n",
      "Epoch 17/80\n",
      "32/32 [==============================] - 0s 3ms/step - loss: 0.0351 - val_loss: 0.0480\n",
      "Epoch 18/80\n",
      "32/32 [==============================] - 0s 3ms/step - loss: 0.0351 - val_loss: 0.0440\n",
      "Epoch 19/80\n",
      "32/32 [==============================] - 0s 3ms/step - loss: 0.0348 - val_loss: 0.0452\n",
      "Epoch 20/80\n",
      "32/32 [==============================] - 0s 3ms/step - loss: 0.0349 - val_loss: 0.0443\n",
      "Epoch 21/80\n",
      "32/32 [==============================] - 0s 4ms/step - loss: 0.0347 - val_loss: 0.0441\n",
      "Epoch 22/80\n",
      "32/32 [==============================] - 0s 4ms/step - loss: 0.0343 - val_loss: 0.0443\n",
      "Epoch 23/80\n",
      "32/32 [==============================] - 0s 3ms/step - loss: 0.0341 - val_loss: 0.0440\n",
      "Epoch 24/80\n",
      "32/32 [==============================] - 0s 3ms/step - loss: 0.0344 - val_loss: 0.0446\n",
      "Epoch 25/80\n",
      "32/32 [==============================] - 0s 15ms/step - loss: 0.0343 - val_loss: 0.0441\n",
      "Epoch 26/80\n",
      "32/32 [==============================] - 0s 9ms/step - loss: 0.0341 - val_loss: 0.0440\n",
      "Epoch 27/80\n",
      "32/32 [==============================] - 0s 7ms/step - loss: 0.0339 - val_loss: 0.0443\n",
      "Epoch 28/80\n",
      "32/32 [==============================] - 0s 7ms/step - loss: 0.0336 - val_loss: 0.0448\n",
      "Epoch 29/80\n",
      "32/32 [==============================] - 0s 5ms/step - loss: 0.0338 - val_loss: 0.0446\n",
      "Epoch 30/80\n",
      "32/32 [==============================] - 0s 4ms/step - loss: 0.0338 - val_loss: 0.0440\n",
      "Epoch 31/80\n",
      "32/32 [==============================] - 0s 3ms/step - loss: 0.0331 - val_loss: 0.0461\n",
      "Epoch 32/80\n",
      "32/32 [==============================] - 0s 3ms/step - loss: 0.0333 - val_loss: 0.0445\n",
      "Epoch 33/80\n",
      "32/32 [==============================] - 0s 4ms/step - loss: 0.0331 - val_loss: 0.0453\n",
      "Epoch 34/80\n",
      "32/32 [==============================] - 0s 6ms/step - loss: 0.0331 - val_loss: 0.0450\n",
      "Epoch 35/80\n",
      "32/32 [==============================] - 0s 6ms/step - loss: 0.0331 - val_loss: 0.0443\n",
      "Epoch 36/80\n",
      "32/32 [==============================] - 0s 5ms/step - loss: 0.0330 - val_loss: 0.0444\n",
      "Epoch 37/80\n",
      "32/32 [==============================] - 0s 7ms/step - loss: 0.0337 - val_loss: 0.0448\n",
      "Epoch 38/80\n",
      "32/32 [==============================] - 0s 5ms/step - loss: 0.0331 - val_loss: 0.0446\n",
      "Epoch 39/80\n",
      "32/32 [==============================] - 0s 4ms/step - loss: 0.0323 - val_loss: 0.0451\n",
      "Epoch 40/80\n",
      "32/32 [==============================] - 0s 3ms/step - loss: 0.0326 - val_loss: 0.0450\n",
      "Epoch 41/80\n",
      "32/32 [==============================] - 0s 2ms/step - loss: 0.0323 - val_loss: 0.0453\n",
      "Epoch 42/80\n",
      "32/32 [==============================] - 0s 4ms/step - loss: 0.0319 - val_loss: 0.0451\n",
      "Epoch 43/80\n",
      "32/32 [==============================] - 0s 3ms/step - loss: 0.0325 - val_loss: 0.0448\n",
      "Epoch 44/80\n",
      "32/32 [==============================] - 0s 3ms/step - loss: 0.0319 - val_loss: 0.0452\n",
      "Epoch 45/80\n",
      "32/32 [==============================] - 0s 5ms/step - loss: 0.0321 - val_loss: 0.0452\n",
      "Epoch 46/80\n",
      "32/32 [==============================] - 0s 3ms/step - loss: 0.0318 - val_loss: 0.0455\n",
      "Epoch 47/80\n",
      "32/32 [==============================] - 0s 2ms/step - loss: 0.0321 - val_loss: 0.0456\n",
      "Epoch 48/80\n",
      "32/32 [==============================] - 0s 3ms/step - loss: 0.0318 - val_loss: 0.0452\n",
      "Epoch 49/80\n",
      "32/32 [==============================] - 0s 2ms/step - loss: 0.0313 - val_loss: 0.0450\n",
      "Epoch 50/80\n",
      "32/32 [==============================] - 0s 3ms/step - loss: 0.0316 - val_loss: 0.0456\n",
      "Epoch 51/80\n",
      "32/32 [==============================] - 0s 4ms/step - loss: 0.0314 - val_loss: 0.0460\n",
      "Epoch 52/80\n",
      "32/32 [==============================] - 0s 4ms/step - loss: 0.0310 - val_loss: 0.0458\n",
      "Epoch 53/80\n",
      "32/32 [==============================] - 0s 4ms/step - loss: 0.0312 - val_loss: 0.0465\n",
      "Epoch 54/80\n",
      "32/32 [==============================] - 0s 3ms/step - loss: 0.0312 - val_loss: 0.0473\n",
      "Epoch 55/80\n",
      "32/32 [==============================] - 0s 3ms/step - loss: 0.0309 - val_loss: 0.0452\n",
      "Epoch 56/80\n",
      "32/32 [==============================] - 0s 3ms/step - loss: 0.0308 - val_loss: 0.0446\n",
      "Epoch 57/80\n",
      "32/32 [==============================] - 0s 3ms/step - loss: 0.0311 - val_loss: 0.0467\n",
      "Epoch 58/80\n",
      "32/32 [==============================] - 0s 3ms/step - loss: 0.0309 - val_loss: 0.0457\n",
      "Epoch 59/80\n",
      "32/32 [==============================] - 0s 4ms/step - loss: 0.0310 - val_loss: 0.0455\n",
      "Epoch 60/80\n",
      "32/32 [==============================] - 0s 4ms/step - loss: 0.0309 - val_loss: 0.0451\n",
      "Epoch 61/80\n",
      "32/32 [==============================] - 0s 3ms/step - loss: 0.0305 - val_loss: 0.0460\n",
      "Epoch 62/80\n",
      "32/32 [==============================] - 0s 3ms/step - loss: 0.0303 - val_loss: 0.0452\n",
      "Epoch 63/80\n",
      "32/32 [==============================] - 0s 3ms/step - loss: 0.0303 - val_loss: 0.0455\n",
      "Epoch 64/80\n",
      "32/32 [==============================] - 0s 3ms/step - loss: 0.0300 - val_loss: 0.0466\n",
      "Epoch 65/80\n",
      "32/32 [==============================] - 0s 3ms/step - loss: 0.0301 - val_loss: 0.0458\n",
      "Epoch 66/80\n",
      "32/32 [==============================] - 0s 3ms/step - loss: 0.0300 - val_loss: 0.0453\n",
      "Epoch 67/80\n",
      "32/32 [==============================] - 0s 4ms/step - loss: 0.0304 - val_loss: 0.0459\n",
      "Epoch 68/80\n",
      "32/32 [==============================] - 0s 4ms/step - loss: 0.0297 - val_loss: 0.0457\n",
      "Epoch 69/80\n",
      "32/32 [==============================] - 0s 4ms/step - loss: 0.0296 - val_loss: 0.0452\n",
      "Epoch 70/80\n",
      "32/32 [==============================] - 0s 4ms/step - loss: 0.0296 - val_loss: 0.0452\n",
      "Epoch 71/80\n",
      "32/32 [==============================] - 0s 4ms/step - loss: 0.0294 - val_loss: 0.0461\n",
      "Epoch 72/80\n",
      "32/32 [==============================] - 0s 4ms/step - loss: 0.0292 - val_loss: 0.0451\n",
      "Epoch 73/80\n",
      "32/32 [==============================] - 0s 4ms/step - loss: 0.0292 - val_loss: 0.0469\n",
      "Epoch 74/80\n",
      "32/32 [==============================] - 0s 3ms/step - loss: 0.0293 - val_loss: 0.0464\n",
      "Epoch 75/80\n",
      "32/32 [==============================] - 0s 3ms/step - loss: 0.0293 - val_loss: 0.0468\n",
      "Epoch 76/80\n",
      "32/32 [==============================] - 0s 3ms/step - loss: 0.0290 - val_loss: 0.0470\n",
      "Epoch 77/80\n",
      "32/32 [==============================] - 0s 4ms/step - loss: 0.0294 - val_loss: 0.0451\n",
      "Epoch 78/80\n",
      "32/32 [==============================] - 0s 3ms/step - loss: 0.0308 - val_loss: 0.0472\n",
      "Epoch 79/80\n",
      "32/32 [==============================] - 0s 3ms/step - loss: 0.0290 - val_loss: 0.0458\n",
      "Epoch 80/80\n",
      "32/32 [==============================] - 0s 4ms/step - loss: 0.0292 - val_loss: 0.0461\n"
     ]
    },
    {
     "data": {
      "text/plain": [
       "<keras.callbacks.History at 0x7f8c35b2ec70>"
      ]
     },
     "execution_count": 20,
     "metadata": {},
     "output_type": "execute_result"
    }
   ],
   "source": [
    "model_2.fit(x=x_train, y=y_train, epochs=80, \n",
    "          validation_data=(x_test,y_test))"
   ]
  },
  {
   "cell_type": "code",
   "execution_count": 21,
   "id": "bbc15573",
   "metadata": {},
   "outputs": [
    {
     "data": {
      "text/plain": [
       "<AxesSubplot:>"
      ]
     },
     "execution_count": 21,
     "metadata": {},
     "output_type": "execute_result"
    },
    {
     "data": {
      "image/png": "[encoded data removed]",
      "text/plain": [
       "<Figure size 432x288 with 1 Axes>"
      ]
     },
     "metadata": {
      "needs_background": "light"
     },
     "output_type": "display_data"
    }
   ],
   "source": [
    "model_2_losses = pd.DataFrame(model_2.history.history)\n",
    "model_2_losses.plot()"
   ]
  },
  {
   "cell_type": "code",
   "execution_count": 22,
   "id": "8e2f63c4",
   "metadata": {},
   "outputs": [
    {
     "data": {
      "text/html": [
       "<div>\n",
       "<style scoped>\n",
       "    .dataframe tbody tr th:only-of-type {\n",
       "        vertical-align: middle;\n",
       "    }\n",
       "\n",
       "    .dataframe tbody tr th {\n",
       "        vertical-align: top;\n",
       "    }\n",
       "\n",
       "    .dataframe thead th {\n",
       "        text-align: right;\n",
       "    }\n",
       "</style>\n",
       "<table border=\"1\" class=\"dataframe\">\n",
       "  <thead>\n",
       "    <tr style=\"text-align: right;\">\n",
       "      <th></th>\n",
       "      <th>Predict</th>\n",
       "      <th>Actual</th>\n",
       "    </tr>\n",
       "  </thead>\n",
       "  <tbody>\n",
       "    <tr>\n",
       "      <th>0</th>\n",
       "      <td>0.534470</td>\n",
       "      <td>0.301075</td>\n",
       "    </tr>\n",
       "    <tr>\n",
       "      <th>1</th>\n",
       "      <td>0.621871</td>\n",
       "      <td>0.666667</td>\n",
       "    </tr>\n",
       "    <tr>\n",
       "      <th>2</th>\n",
       "      <td>0.633360</td>\n",
       "      <td>0.709677</td>\n",
       "    </tr>\n",
       "    <tr>\n",
       "      <th>3</th>\n",
       "      <td>0.717811</td>\n",
       "      <td>0.010753</td>\n",
       "    </tr>\n",
       "    <tr>\n",
       "      <th>4</th>\n",
       "      <td>0.461675</td>\n",
       "      <td>0.645161</td>\n",
       "    </tr>\n",
       "    <tr>\n",
       "      <th>5</th>\n",
       "      <td>0.647107</td>\n",
       "      <td>0.655914</td>\n",
       "    </tr>\n",
       "    <tr>\n",
       "      <th>6</th>\n",
       "      <td>0.649519</td>\n",
       "      <td>0.720430</td>\n",
       "    </tr>\n",
       "    <tr>\n",
       "      <th>7</th>\n",
       "      <td>0.619333</td>\n",
       "      <td>0.559140</td>\n",
       "    </tr>\n",
       "    <tr>\n",
       "      <th>8</th>\n",
       "      <td>0.777429</td>\n",
       "      <td>0.849462</td>\n",
       "    </tr>\n",
       "    <tr>\n",
       "      <th>9</th>\n",
       "      <td>0.653493</td>\n",
       "      <td>0.881720</td>\n",
       "    </tr>\n",
       "  </tbody>\n",
       "</table>\n",
       "</div>"
      ],
      "text/plain": [
       "    Predict    Actual\n",
       "0  0.534470  0.301075\n",
       "1  0.621871  0.666667\n",
       "2  0.633360  0.709677\n",
       "3  0.717811  0.010753\n",
       "4  0.461675  0.645161\n",
       "5  0.647107  0.655914\n",
       "6  0.649519  0.720430\n",
       "7  0.619333  0.559140\n",
       "8  0.777429  0.849462\n",
       "9  0.653493  0.881720"
      ]
     },
     "execution_count": 22,
     "metadata": {},
     "output_type": "execute_result"
    }
   ],
   "source": [
    "predictions = model_2.predict(x_test)\n",
    "sample = pd.DataFrame(predictions,columns=['Predict'])\n",
    "sample['Actual']=y_test\n",
    "sample.head(10)"
   ]
  },
  {
   "cell_type": "code",
   "execution_count": 23,
   "id": "170077f6",
   "metadata": {},
   "outputs": [
    {
     "data": {
      "text/plain": [
       "0.16184412122363212"
      ]
     },
     "execution_count": 23,
     "metadata": {},
     "output_type": "execute_result"
    }
   ],
   "source": [
    "mean_absolute_error(y_test,predictions)"
   ]
  },
  {
   "cell_type": "code",
   "execution_count": 24,
   "id": "f6bfe4dc",
   "metadata": {},
   "outputs": [
    {
     "name": "stdout",
     "output_type": "stream",
     "text": [
      "RMSE: \n"
     ]
    },
    {
     "data": {
      "text/plain": [
       "0.21475256558884648"
      ]
     },
     "execution_count": 24,
     "metadata": {},
     "output_type": "execute_result"
    }
   ],
   "source": [
    "print(\"RMSE: \")\n",
    "np.sqrt(mean_squared_error(y_test,predictions))"
   ]
  }
 ],
 "metadata": {
  "kernelspec": {
   "display_name": "Python 3 (ipykernel)",
   "language": "python",
   "name": "python3"
  },
  "language_info": {
   "codemirror_mode": {
    "name": "ipython",
    "version": 3
   },
   "file_extension": ".py",
   "mimetype": "text/x-python",
   "name": "python",
   "nbconvert_exporter": "python",
   "pygments_lexer": "ipython3",
   "version": "3.9.7"
  }
 },
 "nbformat": 4,
 "nbformat_minor": 5
}
