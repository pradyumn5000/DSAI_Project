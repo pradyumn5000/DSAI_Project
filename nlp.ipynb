{
 "cells": [
  {
   "cell_type": "code",
   "execution_count": 1,
   "id": "273454ff",
   "metadata": {},
   "outputs": [],
   "source": [
    "# DataFrame\n",
    "import pandas as pd\n",
    "\n",
    "# Matplot\n",
    "import matplotlib.pyplot as plt\n",
    "%matplotlib inline\n",
    "\n",
    "# Scikit-learn\n",
    "from sklearn.model_selection import train_test_split\n",
    "from sklearn.preprocessing import LabelEncoder\n",
    "from sklearn.metrics import confusion_matrix, classification_report, accuracy_score\n",
    "from sklearn.manifold import TSNE\n",
    "from sklearn.feature_extraction.text import TfidfVectorizer\n",
    "from sklearn.preprocessing import MinMaxScaler\n",
    "from sklearn.metrics import mean_absolute_error,mean_squared_error\n",
    "\n",
    "\n",
    "# Keras\n",
    "from keras.preprocessing.text import Tokenizer\n",
    "from keras.preprocessing.sequence import pad_sequences\n",
    "from keras.models import Sequential\n",
    "from keras.layers import Activation, Dense, Dropout, Embedding, Flatten, Conv1D, MaxPooling1D, LSTM\n",
    "from keras import utils\n",
    "from keras.callbacks import ReduceLROnPlateau, EarlyStopping\n",
    "\n",
    "# nltk\n",
    "import nltk\n",
    "from nltk.corpus import stopwords\n",
    "from  nltk.stem import SnowballStemmer\n",
    "\n",
    "# Word2vec\n",
    "import gensim\n",
    "\n",
    "# Utility\n",
    "import re\n",
    "import numpy as np\n",
    "import time\n",
    "from pathlib import Path"
   ]
  },
  {
   "cell_type": "code",
   "execution_count": 2,
   "id": "1852aa14",
   "metadata": {},
   "outputs": [],
   "source": [
    "#Importing Datasets\n",
    "data = pd.read_csv('Datasets/cleaned_data.csv')\n",
    "data = data.drop(['Unnamed: 0'], axis = 1)"
   ]
  },
  {
   "cell_type": "markdown",
   "id": "8f29bde5",
   "metadata": {},
   "source": [
    "## NLP on lyrics"
   ]
  },
  {
   "cell_type": "code",
   "execution_count": 3,
   "id": "677c27b4",
   "metadata": {},
   "outputs": [
    {
     "name": "stderr",
     "output_type": "stream",
     "text": [
      "[nltk_data] Downloading package stopwords to\n",
      "[nltk_data]     /Users/pradyumn/nltk_data...\n",
      "[nltk_data]   Package stopwords is already up-to-date!\n"
     ]
    }
   ],
   "source": [
    "nltk.download('stopwords')\n",
    "stop_words = stopwords.words(\"english\")\n",
    "stemmer = SnowballStemmer(\"english\")\n",
    "\n",
    "def preprocess(text, stem=False):\n",
    "    # Remove link,user and special characters\n",
    "    text = re.sub(\"@\\S+|https?:\\S+|http?:\\S|[^A-Za-z0-9]+\", ' ', str(text).lower()).strip()\n",
    "    tokens = []\n",
    "    for token in text.split():\n",
    "        if token not in stop_words:\n",
    "            if stem:\n",
    "                tokens.append(stemmer.stem(token))\n",
    "            else:\n",
    "                tokens.append(token)\n",
    "    return \" \".join(tokens)"
   ]
  },
  {
   "cell_type": "code",
   "execution_count": 4,
   "id": "cf69fa0d",
   "metadata": {},
   "outputs": [
    {
     "name": "stdout",
     "output_type": "stream",
     "text": [
      "CPU times: user 1.15 s, sys: 19 ms, total: 1.16 s\n",
      "Wall time: 1.2 s\n"
     ]
    }
   ],
   "source": [
    "%%time\n",
    "data.lyrics = data.lyrics.apply(lambda x: preprocess(x)) # preprocessing the text data."
   ]
  },
  {
   "cell_type": "code",
   "execution_count": 5,
   "id": "5bd4cc03",
   "metadata": {},
   "outputs": [
    {
     "data": {
      "text/plain": [
       "'played fiddle irish band fell love english man kissed neck took hand said baby want dance met grafton street right outside bar shared cigarette brother played guitar asked mean gaelic ink arm said one friend songs want drink took jamie chaser jack fun got arthur table johnny riding shotgun chatted one drink bar put van jukebox got dance know played fiddle irish band fell love english man kissed neck took hand said baby want dance pretty little galway girl pretty little galway girl know beat darts beat pool kissed like nobody else room last orders called stood stool dancing c ilidh singing trad tunes never heard carrickfergus ever sang sweet capella bar using feet beat oh could voice playing repeat week packed room swear singing know played fiddle irish band fell love english man kissed neck took hand said baby want dance pretty little galway girl galway girl galway girl galway girl outstayed welcome closing time holding hand hand holding mine coats smell smoke whisky wine fill lungs cold air night walked home took inside finish doritos another bottle wine swear gonna put song write galway girl perfect night played fiddle irish band fell love english man kissed neck took hand said baby want dance pretty little galway girl galway girl galway girl galway girl'"
      ]
     },
     "execution_count": 5,
     "metadata": {},
     "output_type": "execute_result"
    }
   ],
   "source": [
    "data.lyrics[0]"
   ]
  },
  {
   "cell_type": "code",
   "execution_count": 6,
   "id": "c309663b",
   "metadata": {},
   "outputs": [
    {
     "name": "stdout",
     "output_type": "stream",
     "text": [
      "TRAIN size: 1284\n",
      "TEST size: 321\n"
     ]
    }
   ],
   "source": [
    "# Split into train and test dataset.\n",
    "df_train, df_test = train_test_split(data, test_size=0.2, random_state=42)\n",
    "print(\"TRAIN size:\", len(df_train))\n",
    "print(\"TEST size:\", len(df_test))"
   ]
  },
  {
   "cell_type": "code",
   "execution_count": 7,
   "id": "d244c1c2",
   "metadata": {},
   "outputs": [
    {
     "data": {
      "text/plain": [
       "0    played fiddle irish band fell love english man...\n",
       "1    hey havana ooh na na ay half heart havana ooh ...\n",
       "2    bed feels little bit bigger song radio sound f...\n",
       "3    hey baby look way new addiction hey baby gotta...\n",
       "4    remember broke first time saying enough like s...\n",
       "5    hurting baby broken need loving loving need wi...\n",
       "6    got condo manhattan baby girl hatnin ass invit...\n",
       "7    queen since sixteen want things dream dreams a...\n",
       "8    said let get town drive city away crowd though...\n",
       "9    unwritten read mind undefined beginning pen ha...\n",
       "Name: lyrics, dtype: object"
      ]
     },
     "execution_count": 7,
     "metadata": {},
     "output_type": "execute_result"
    }
   ],
   "source": [
    "data.lyrics[0:10]"
   ]
  },
  {
   "cell_type": "markdown",
   "id": "faff5ef7",
   "metadata": {},
   "source": [
    "## Word2vec\n"
   ]
  },
  {
   "cell_type": "markdown",
   "id": "49030f63",
   "metadata": {},
   "source": [
    "This neural network vectorizes the words so that each 'text' can be understood in a neural network. But, the main purpose of the 2 layer neural network is to convert text to a vector, where the vector can be read in to a future neural network AND has a relationship embeddings behind the vectorized values based on cosine similarity."
   ]
  },
  {
   "cell_type": "code",
   "execution_count": 8,
   "id": "05249e16",
   "metadata": {},
   "outputs": [
    {
     "name": "stdout",
     "output_type": "stream",
     "text": [
      "CPU times: user 18 ms, sys: 4.79 ms, total: 22.8 ms\n",
      "Wall time: 23 ms\n"
     ]
    }
   ],
   "source": [
    "%%time\n",
    "documents = [_text.split() for _text in df_train.lyrics] "
   ]
  },
  {
   "cell_type": "code",
   "execution_count": 9,
   "id": "97597447",
   "metadata": {},
   "outputs": [
    {
     "name": "stdout",
     "output_type": "stream",
     "text": [
      "Vocab size 2131\n"
     ]
    }
   ],
   "source": [
    "w2v_model = gensim.models.word2vec.Word2Vec(vector_size =300, # vector size \n",
    "                                            window=7, # distance between current and predicted word within a sentence\n",
    "                                            min_count=10, # ignores words with total frequency less than the parameter\n",
    "                                            workers=8) # threads\n",
    "w2v_model.build_vocab(documents)\n",
    "words = w2v_model.wv.index_to_key\n",
    "vocab_size = len(words)\n",
    "print(\"Vocab size\", vocab_size)"
   ]
  },
  {
   "cell_type": "code",
   "execution_count": 10,
   "id": "909e312d",
   "metadata": {},
   "outputs": [
    {
     "name": "stdout",
     "output_type": "stream",
     "text": [
      "CPU times: user 21.8 s, sys: 428 ms, total: 22.2 s\n",
      "Wall time: 8.59 s\n"
     ]
    },
    {
     "data": {
      "text/plain": [
       "(4219836, 5659904)"
      ]
     },
     "execution_count": 10,
     "metadata": {},
     "output_type": "execute_result"
    }
   ],
   "source": [
    "%%time\n",
    "w2v_model.train(documents, total_examples=len(documents), epochs=32)"
   ]
  },
  {
   "cell_type": "code",
   "execution_count": 11,
   "id": "58083022",
   "metadata": {},
   "outputs": [
    {
     "data": {
      "text/plain": [
       "[('fails', 0.39134112000465393),\n",
       " ('soft', 0.3720150589942932),\n",
       " ('true', 0.36757105588912964),\n",
       " ('apart', 0.36659008264541626),\n",
       " ('hunk', 0.3522321581840515),\n",
       " ('needing', 0.3362979292869568),\n",
       " ('show', 0.3285921812057495),\n",
       " ('heart', 0.327623188495636),\n",
       " ('ordinary', 0.32733508944511414),\n",
       " ('fallin', 0.3108413517475128)]"
      ]
     },
     "execution_count": 11,
     "metadata": {},
     "output_type": "execute_result"
    }
   ],
   "source": [
    "w2v_model.wv.most_similar(\"love\")"
   ]
  },
  {
   "cell_type": "markdown",
   "id": "2ec3f3cc",
   "metadata": {},
   "source": [
    "## Tokenize Text & Create Embedding Layer.\n"
   ]
  },
  {
   "cell_type": "code",
   "execution_count": 12,
   "id": "66e3cbbc",
   "metadata": {},
   "outputs": [
    {
     "name": "stdout",
     "output_type": "stream",
     "text": [
      "Total words 11486\n",
      "CPU times: user 237 ms, sys: 9.24 ms, total: 246 ms\n",
      "Wall time: 259 ms\n"
     ]
    }
   ],
   "source": [
    "%%time\n",
    "tokenizer = Tokenizer()\n",
    "tokenizer.fit_on_texts(df_train.lyrics)\n",
    "\n",
    "vocab_size = len(tokenizer.word_index) + 1\n",
    "print(\"Total words\", vocab_size)"
   ]
  },
  {
   "cell_type": "code",
   "execution_count": 13,
   "id": "0a93fb90",
   "metadata": {},
   "outputs": [
    {
     "name": "stdout",
     "output_type": "stream",
     "text": [
      "CPU times: user 144 ms, sys: 8.43 ms, total: 153 ms\n",
      "Wall time: 149 ms\n"
     ]
    }
   ],
   "source": [
    "%%time\n",
    "x_train = pad_sequences(tokenizer.texts_to_sequences(df_train.lyrics), maxlen=300)\n",
    "x_test = pad_sequences(tokenizer.texts_to_sequences(df_test.lyrics), maxlen=300)"
   ]
  },
  {
   "cell_type": "code",
   "execution_count": 14,
   "id": "089b42be",
   "metadata": {},
   "outputs": [
    {
     "name": "stdout",
     "output_type": "stream",
     "text": [
      "1284 321\n"
     ]
    }
   ],
   "source": [
    "print(len(x_train), len(x_test))"
   ]
  },
  {
   "cell_type": "code",
   "execution_count": 15,
   "id": "ad1b3717",
   "metadata": {},
   "outputs": [
    {
     "data": {
      "text/plain": [
       "array([[    0,     0,     0, ...,   217,  1109,  1880],\n",
       "       [    0,     0,     0, ...,    34,   479,   280],\n",
       "       [    0,     0,     0, ...,    61,   127,   352],\n",
       "       ...,\n",
       "       [    0,     0,     0, ...,  1958,   312,    85],\n",
       "       [    0,     0,     0, ...,   540, 11484,   540],\n",
       "       [    0,     0,     0, ...,     8,  3422,  6572]], dtype=int32)"
      ]
     },
     "execution_count": 15,
     "metadata": {},
     "output_type": "execute_result"
    }
   ],
   "source": [
    "x_train"
   ]
  },
  {
   "cell_type": "code",
   "execution_count": 16,
   "id": "5e103d23",
   "metadata": {},
   "outputs": [
    {
     "name": "stdout",
     "output_type": "stream",
     "text": [
      "(11486, 300)\n"
     ]
    }
   ],
   "source": [
    "# Creating an embedding layer that will act as an input layer for the neural network.\n",
    "embedding_matrix = np.zeros((vocab_size, 300))\n",
    "for word, i in tokenizer.word_index.items():\n",
    "    if word in w2v_model.wv:\n",
    "        embedding_matrix[i] = w2v_model.wv[word]\n",
    "print(embedding_matrix.shape)\n",
    "# used in the future.\n",
    "embedding_layer = Embedding(vocab_size, 300, weights=[embedding_matrix], input_length=300, trainable=False)"
   ]
  },
  {
   "cell_type": "code",
   "execution_count": 17,
   "id": "4e3a5669",
   "metadata": {},
   "outputs": [
    {
     "data": {
      "text/plain": [
       "array([0.7311828 , 0.68817204, 0.70967742, ..., 0.38709677, 0.7311828 ,\n",
       "       0.29032258])"
      ]
     },
     "execution_count": 17,
     "metadata": {},
     "output_type": "execute_result"
    }
   ],
   "source": [
    "y_train = df_train['popularity'].values\n",
    "y_train"
   ]
  },
  {
   "cell_type": "code",
   "execution_count": 18,
   "id": "7b586085",
   "metadata": {},
   "outputs": [
    {
     "data": {
      "text/plain": [
       "array([0.79569892, 0.6344086 , 0.80645161, 0.        , 0.6344086 ,\n",
       "       0.83870968, 0.58064516, 0.52688172, 0.56989247, 0.8172043 ,\n",
       "       0.55913978, 0.07526882, 0.35483871, 0.37634409, 0.41935484,\n",
       "       0.67741935, 0.90322581, 0.46236559, 0.8172043 , 0.78494624,\n",
       "       0.75268817, 0.92473118, 0.47311828, 0.50537634, 0.75268817,\n",
       "       0.62365591, 0.91397849, 0.5483871 , 0.49462366, 0.64516129,\n",
       "       0.89247312, 0.66666667, 0.67741935, 0.70967742, 0.68817204,\n",
       "       0.68817204, 0.03225806, 0.50537634, 0.84946237, 0.68817204,\n",
       "       0.49462366, 0.83870968, 0.74193548, 0.65591398, 0.62365591,\n",
       "       0.88172043, 0.61290323, 0.72043011, 0.67741935, 0.53763441,\n",
       "       0.51612903, 0.78494624, 0.53763441, 0.61290323, 0.34408602,\n",
       "       0.70967742, 0.56989247, 0.75268817, 0.7311828 , 0.27956989,\n",
       "       0.13978495, 0.74193548, 0.07526882, 0.25806452, 0.77419355,\n",
       "       0.49462366, 0.5483871 , 0.82795699, 0.70967742, 0.75268817,\n",
       "       0.50537634, 0.90322581, 0.34408602, 0.79569892, 0.66666667,\n",
       "       0.70967742, 0.65591398, 0.65591398, 0.47311828, 0.29032258,\n",
       "       0.74193548, 0.43010753, 0.47311828, 0.44086022, 0.79569892,\n",
       "       0.22580645, 0.55913978, 0.69892473, 0.46236559, 0.96774194,\n",
       "       0.66666667, 0.78494624, 0.65591398, 0.64516129, 0.7311828 ,\n",
       "       0.77419355, 0.58064516, 0.83870968, 0.66666667, 0.38709677,\n",
       "       0.90322581, 0.38709677, 0.72043011, 0.84946237, 0.70967742,\n",
       "       0.74193548, 0.88172043, 0.53763441, 0.92473118, 0.30107527,\n",
       "       0.74193548, 0.78494624, 0.66666667, 0.55913978, 0.82795699,\n",
       "       0.65591398, 0.84946237, 0.61290323, 0.65591398, 0.38709677,\n",
       "       0.52688172, 0.50537634, 0.15053763, 0.5483871 , 0.76344086,\n",
       "       0.39784946, 0.48387097, 0.51612903, 0.91397849, 0.78494624,\n",
       "       0.69892473, 0.80645161, 0.34408602, 0.30107527, 0.08602151,\n",
       "       0.56989247, 0.8172043 , 0.6344086 , 0.5483871 , 0.20430108,\n",
       "       0.74193548, 0.6344086 , 0.58064516, 0.62365591, 0.77419355,\n",
       "       0.88172043, 0.68817204, 0.21505376, 0.69892473, 0.64516129,\n",
       "       0.34408602, 0.02150538, 0.6344086 , 0.75268817, 0.2688172 ,\n",
       "       0.27956989, 0.93548387, 0.30107527, 0.52688172, 0.92473118,\n",
       "       0.74193548, 0.53763441, 0.60215054, 0.62365591, 0.62365591,\n",
       "       0.52688172, 0.66666667, 0.74193548, 0.49462366, 0.03225806,\n",
       "       0.40860215, 0.47311828, 0.60215054, 0.87096774, 0.67741935,\n",
       "       0.82795699, 0.40860215, 0.49462366, 0.07526882, 0.49462366,\n",
       "       0.8172043 , 0.68817204, 0.3655914 , 0.77419355, 0.74193548,\n",
       "       0.56989247, 0.66666667, 0.38709677, 0.82795699, 0.82795699,\n",
       "       0.76344086, 0.        , 0.68817204, 0.8172043 , 0.60215054,\n",
       "       0.27956989, 0.79569892, 0.02150538, 0.25806452, 0.70967742,\n",
       "       0.35483871, 0.8172043 , 0.30107527, 0.03225806, 0.68817204,\n",
       "       0.80645161, 0.6344086 , 0.60215054, 0.68817204, 0.67741935,\n",
       "       0.70967742, 0.50537634, 0.6344086 , 0.78494624, 0.87096774,\n",
       "       0.72043011, 0.56989247, 0.69892473, 0.2688172 , 0.59139785,\n",
       "       0.77419355, 0.32258065, 0.84946237, 0.70967742, 0.82795699,\n",
       "       0.74193548, 0.60215054, 0.65591398, 0.56989247, 0.6344086 ,\n",
       "       0.64516129, 0.79569892, 0.64516129, 0.5483871 , 0.46236559,\n",
       "       0.04301075, 0.66666667, 0.75268817, 0.79569892, 0.7311828 ,\n",
       "       0.27956989, 0.50537634, 0.79569892, 0.64516129, 0.59139785,\n",
       "       0.82795699, 0.72043011, 0.53763441, 0.80645161, 0.76344086,\n",
       "       0.69892473, 0.4516129 , 0.67741935, 0.82795699, 0.91397849,\n",
       "       0.01075269, 0.67741935, 0.29032258, 0.75268817, 0.69892473,\n",
       "       0.83870968, 0.65591398, 0.72043011, 0.83870968, 0.90322581,\n",
       "       0.59139785, 0.60215054, 0.64516129, 0.49462366, 0.86021505,\n",
       "       0.84946237, 0.89247312, 0.50537634, 0.78494624, 0.39784946,\n",
       "       0.35483871, 0.58064516, 0.77419355, 0.84946237, 0.09677419,\n",
       "       0.86021505, 0.3655914 , 0.50537634, 0.89247312, 0.56989247,\n",
       "       0.38709677, 0.66666667, 0.3655914 , 0.62365591, 0.74193548,\n",
       "       0.01075269, 0.7311828 , 0.3655914 , 0.47311828, 0.68817204,\n",
       "       0.87096774, 0.6344086 , 0.20430108, 0.64516129, 0.7311828 ,\n",
       "       0.55913978, 0.90322581, 0.51612903, 0.34408602, 0.49462366,\n",
       "       0.        , 0.67741935, 0.29032258, 0.83870968, 0.72043011,\n",
       "       0.7311828 , 0.46236559, 0.82795699, 0.34408602, 0.43010753,\n",
       "       0.39784946, 0.51612903, 0.5483871 , 0.41935484, 0.32258065,\n",
       "       0.74193548])"
      ]
     },
     "execution_count": 18,
     "metadata": {},
     "output_type": "execute_result"
    }
   ],
   "source": [
    "y_test = df_test['popularity'].values\n",
    "y_test"
   ]
  },
  {
   "cell_type": "code",
   "execution_count": 19,
   "id": "ef8e0916",
   "metadata": {},
   "outputs": [
    {
     "name": "stdout",
     "output_type": "stream",
     "text": [
      "y_train (1284, 1)\n",
      "y_test (321, 1)\n"
     ]
    }
   ],
   "source": [
    "y_train = np.reshape(y_train, (-1,1))  \n",
    "y_test = np.reshape(y_test, (-1,1))\n",
    "print(\"y_train\",y_train.shape)\n",
    "print(\"y_test\",y_test.shape) "
   ]
  },
  {
   "cell_type": "code",
   "execution_count": 20,
   "id": "6b0e851d",
   "metadata": {},
   "outputs": [
    {
     "data": {
      "text/html": [
       "<div>\n",
       "<style scoped>\n",
       "    .dataframe tbody tr th:only-of-type {\n",
       "        vertical-align: middle;\n",
       "    }\n",
       "\n",
       "    .dataframe tbody tr th {\n",
       "        vertical-align: top;\n",
       "    }\n",
       "\n",
       "    .dataframe thead th {\n",
       "        text-align: right;\n",
       "    }\n",
       "</style>\n",
       "<table border=\"1\" class=\"dataframe\">\n",
       "  <thead>\n",
       "    <tr style=\"text-align: right;\">\n",
       "      <th></th>\n",
       "      <th>album_name</th>\n",
       "      <th>release_date</th>\n",
       "      <th>artist_name</th>\n",
       "      <th>explicit</th>\n",
       "      <th>song_name</th>\n",
       "      <th>lyrics</th>\n",
       "      <th>language</th>\n",
       "      <th>total_tracks</th>\n",
       "      <th>duration_ms</th>\n",
       "      <th>popularity</th>\n",
       "      <th>...</th>\n",
       "      <th>key</th>\n",
       "      <th>loudness</th>\n",
       "      <th>mode</th>\n",
       "      <th>speechiness</th>\n",
       "      <th>acousticness</th>\n",
       "      <th>instrumentalness</th>\n",
       "      <th>liveness</th>\n",
       "      <th>valence</th>\n",
       "      <th>tempo</th>\n",
       "      <th>time_signature</th>\n",
       "    </tr>\n",
       "  </thead>\n",
       "  <tbody>\n",
       "    <tr>\n",
       "      <th>705</th>\n",
       "      <td>Hozier (Expanded Edition)</td>\n",
       "      <td>2014-09-19</td>\n",
       "      <td>hozier</td>\n",
       "      <td>False</td>\n",
       "      <td>Jackie and Wilson</td>\n",
       "      <td>tired trying see behind red eyes better versio...</td>\n",
       "      <td>en</td>\n",
       "      <td>0.157303</td>\n",
       "      <td>0.099640</td>\n",
       "      <td>0.731183</td>\n",
       "      <td>...</td>\n",
       "      <td>0.545455</td>\n",
       "      <td>0.866771</td>\n",
       "      <td>1.0</td>\n",
       "      <td>0.035325</td>\n",
       "      <td>0.059141</td>\n",
       "      <td>0.000008</td>\n",
       "      <td>0.079222</td>\n",
       "      <td>0.737667</td>\n",
       "      <td>0.195852</td>\n",
       "      <td>0.75</td>\n",
       "    </tr>\n",
       "    <tr>\n",
       "      <th>963</th>\n",
       "      <td>Biz's Baddest Beats: The Best of Biz Markie</td>\n",
       "      <td>1994-08-07</td>\n",
       "      <td>biz markie</td>\n",
       "      <td>False</td>\n",
       "      <td>Just a Friend</td>\n",
       "      <td>ever met girl tried date year make love wanted...</td>\n",
       "      <td>en</td>\n",
       "      <td>0.157303</td>\n",
       "      <td>0.116642</td>\n",
       "      <td>0.688172</td>\n",
       "      <td>...</td>\n",
       "      <td>0.000000</td>\n",
       "      <td>0.632595</td>\n",
       "      <td>1.0</td>\n",
       "      <td>0.415685</td>\n",
       "      <td>0.122573</td>\n",
       "      <td>0.000000</td>\n",
       "      <td>0.322973</td>\n",
       "      <td>0.840092</td>\n",
       "      <td>0.215968</td>\n",
       "      <td>0.75</td>\n",
       "    </tr>\n",
       "    <tr>\n",
       "      <th>599</th>\n",
       "      <td>Connection</td>\n",
       "      <td>2018-06-26</td>\n",
       "      <td>onerepublic</td>\n",
       "      <td>False</td>\n",
       "      <td>Connection</td>\n",
       "      <td>days waves get lost oceans seven billion swimm...</td>\n",
       "      <td>en</td>\n",
       "      <td>0.000000</td>\n",
       "      <td>0.015841</td>\n",
       "      <td>0.709677</td>\n",
       "      <td>...</td>\n",
       "      <td>0.454545</td>\n",
       "      <td>0.833220</td>\n",
       "      <td>1.0</td>\n",
       "      <td>0.046212</td>\n",
       "      <td>0.000854</td>\n",
       "      <td>0.000000</td>\n",
       "      <td>0.099109</td>\n",
       "      <td>0.617475</td>\n",
       "      <td>0.742328</td>\n",
       "      <td>0.75</td>\n",
       "    </tr>\n",
       "    <tr>\n",
       "      <th>411</th>\n",
       "      <td>The Fray</td>\n",
       "      <td>2009-02-02</td>\n",
       "      <td>the fray</td>\n",
       "      <td>False</td>\n",
       "      <td>You Found Me</td>\n",
       "      <td>found god corner first amistad west alone smok...</td>\n",
       "      <td>en</td>\n",
       "      <td>0.101124</td>\n",
       "      <td>0.120667</td>\n",
       "      <td>0.827957</td>\n",
       "      <td>...</td>\n",
       "      <td>0.727273</td>\n",
       "      <td>0.807764</td>\n",
       "      <td>0.0</td>\n",
       "      <td>0.040880</td>\n",
       "      <td>0.019100</td>\n",
       "      <td>0.000000</td>\n",
       "      <td>0.125190</td>\n",
       "      <td>0.383361</td>\n",
       "      <td>0.639656</td>\n",
       "      <td>0.75</td>\n",
       "    </tr>\n",
       "    <tr>\n",
       "      <th>710</th>\n",
       "      <td>Tom Petty &amp; The Heartbreakers</td>\n",
       "      <td>1976-11-09</td>\n",
       "      <td>tom petty and the heartbreakers</td>\n",
       "      <td>False</td>\n",
       "      <td>American Girl</td>\n",
       "      <td>well american girl raised promises help thinki...</td>\n",
       "      <td>en</td>\n",
       "      <td>0.101124</td>\n",
       "      <td>0.090227</td>\n",
       "      <td>0.817204</td>\n",
       "      <td>...</td>\n",
       "      <td>0.181818</td>\n",
       "      <td>0.779674</td>\n",
       "      <td>1.0</td>\n",
       "      <td>0.023328</td>\n",
       "      <td>0.457609</td>\n",
       "      <td>0.000129</td>\n",
       "      <td>0.375136</td>\n",
       "      <td>0.777383</td>\n",
       "      <td>0.401515</td>\n",
       "      <td>0.75</td>\n",
       "    </tr>\n",
       "  </tbody>\n",
       "</table>\n",
       "<p>5 rows × 22 columns</p>\n",
       "</div>"
      ],
      "text/plain": [
       "                                      album_name release_date  \\\n",
       "705                    Hozier (Expanded Edition)   2014-09-19   \n",
       "963  Biz's Baddest Beats: The Best of Biz Markie   1994-08-07   \n",
       "599                                   Connection   2018-06-26   \n",
       "411                                     The Fray   2009-02-02   \n",
       "710                Tom Petty & The Heartbreakers   1976-11-09   \n",
       "\n",
       "                         artist_name  explicit          song_name  \\\n",
       "705                           hozier     False  Jackie and Wilson   \n",
       "963                       biz markie     False      Just a Friend   \n",
       "599                      onerepublic     False         Connection   \n",
       "411                         the fray     False       You Found Me   \n",
       "710  tom petty and the heartbreakers     False      American Girl   \n",
       "\n",
       "                                                lyrics language  total_tracks  \\\n",
       "705  tired trying see behind red eyes better versio...       en      0.157303   \n",
       "963  ever met girl tried date year make love wanted...       en      0.157303   \n",
       "599  days waves get lost oceans seven billion swimm...       en      0.000000   \n",
       "411  found god corner first amistad west alone smok...       en      0.101124   \n",
       "710  well american girl raised promises help thinki...       en      0.101124   \n",
       "\n",
       "     duration_ms  popularity  ...       key  loudness  mode  speechiness  \\\n",
       "705     0.099640    0.731183  ...  0.545455  0.866771   1.0     0.035325   \n",
       "963     0.116642    0.688172  ...  0.000000  0.632595   1.0     0.415685   \n",
       "599     0.015841    0.709677  ...  0.454545  0.833220   1.0     0.046212   \n",
       "411     0.120667    0.827957  ...  0.727273  0.807764   0.0     0.040880   \n",
       "710     0.090227    0.817204  ...  0.181818  0.779674   1.0     0.023328   \n",
       "\n",
       "     acousticness  instrumentalness  liveness   valence     tempo  \\\n",
       "705      0.059141          0.000008  0.079222  0.737667  0.195852   \n",
       "963      0.122573          0.000000  0.322973  0.840092  0.215968   \n",
       "599      0.000854          0.000000  0.099109  0.617475  0.742328   \n",
       "411      0.019100          0.000000  0.125190  0.383361  0.639656   \n",
       "710      0.457609          0.000129  0.375136  0.777383  0.401515   \n",
       "\n",
       "     time_signature  \n",
       "705            0.75  \n",
       "963            0.75  \n",
       "599            0.75  \n",
       "411            0.75  \n",
       "710            0.75  \n",
       "\n",
       "[5 rows x 22 columns]"
      ]
     },
     "execution_count": 20,
     "metadata": {},
     "output_type": "execute_result"
    }
   ],
   "source": [
    "df_train.head(5)"
   ]
  },
  {
   "cell_type": "markdown",
   "id": "831d6a86",
   "metadata": {},
   "source": [
    "## Creating the Model"
   ]
  },
  {
   "cell_type": "code",
   "execution_count": 28,
   "id": "b4063405",
   "metadata": {},
   "outputs": [
    {
     "name": "stdout",
     "output_type": "stream",
     "text": [
      "Model: \"sequential_1\"\n",
      "_________________________________________________________________\n",
      " Layer (type)                Output Shape              Param #   \n",
      "=================================================================\n",
      " embedding (Embedding)       (None, 300, 300)          3445800   \n",
      "                                                                 \n",
      " dropout_1 (Dropout)         (None, 300, 300)          0         \n",
      "                                                                 \n",
      " lstm_1 (LSTM)               (None, 100)               160400    \n",
      "                                                                 \n",
      " dense_2 (Dense)             (None, 1)                 101       \n",
      "                                                                 \n",
      "=================================================================\n",
      "Total params: 3,606,301\n",
      "Trainable params: 160,501\n",
      "Non-trainable params: 3,445,800\n",
      "_________________________________________________________________\n"
     ]
    }
   ],
   "source": [
    "callback = EarlyStopping(monitor='val_loss', patience=2)\n",
    "model = Sequential()\n",
    "model.add(embedding_layer)\n",
    "model.add(Dropout(0.5))\n",
    "model.add(LSTM(100, dropout=0.2, recurrent_dropout=0.2)) # This can be BERT which may have better performance.   \n",
    "model.add(Dense(1))\n",
    "model.summary()"
   ]
  },
  {
   "cell_type": "code",
   "execution_count": 29,
   "id": "acdd7a65",
   "metadata": {},
   "outputs": [],
   "source": [
    "model.compile(loss='mse',\n",
    "              optimizer=\"adam\")"
   ]
  },
  {
   "cell_type": "markdown",
   "id": "c1d38d00",
   "metadata": {},
   "source": [
    "## Train"
   ]
  },
  {
   "cell_type": "code",
   "execution_count": 30,
   "id": "baced776",
   "metadata": {},
   "outputs": [
    {
     "name": "stdout",
     "output_type": "stream",
     "text": [
      "Epoch 1/8\n",
      "37/37 [==============================] - 28s 682ms/step - loss: 0.1455 - val_loss: 0.0797\n",
      "Epoch 2/8\n",
      "37/37 [==============================] - 27s 738ms/step - loss: 0.0754 - val_loss: 0.0603\n",
      "Epoch 3/8\n",
      "37/37 [==============================] - 31s 847ms/step - loss: 0.0602 - val_loss: 0.0542\n",
      "Epoch 4/8\n",
      "37/37 [==============================] - 30s 800ms/step - loss: 0.0511 - val_loss: 0.0477\n",
      "Epoch 5/8\n",
      "37/37 [==============================] - 34s 911ms/step - loss: 0.0455 - val_loss: 0.0475\n",
      "Epoch 6/8\n",
      "37/37 [==============================] - 33s 882ms/step - loss: 0.0416 - val_loss: 0.0541\n",
      "Epoch 7/8\n",
      "37/37 [==============================] - 28s 765ms/step - loss: 0.0391 - val_loss: 0.0469\n",
      "Epoch 8/8\n",
      "37/37 [==============================] - 28s 765ms/step - loss: 0.0380 - val_loss: 0.0537\n",
      "CPU times: user 9min 35s, sys: 3min 18s, total: 12min 53s\n",
      "Wall time: 3min 59s\n"
     ]
    },
    {
     "data": {
      "text/plain": [
       "<keras.callbacks.History at 0x7fc91c497df0>"
      ]
     },
     "execution_count": 30,
     "metadata": {},
     "output_type": "execute_result"
    }
   ],
   "source": [
    "%%time\n",
    "model.fit(x_train,\n",
    "        y_train,\n",
    "        epochs=8,\n",
    "        validation_split=0.1,\n",
    "        verbose=1,\n",
    "         callbacks = callback)"
   ]
  },
  {
   "cell_type": "markdown",
   "id": "04872eca",
   "metadata": {},
   "source": [
    "## Evaluate"
   ]
  },
  {
   "cell_type": "code",
   "execution_count": 31,
   "id": "4a079d7d",
   "metadata": {},
   "outputs": [
    {
     "data": {
      "text/plain": [
       "<AxesSubplot:>"
      ]
     },
     "execution_count": 31,
     "metadata": {},
     "output_type": "execute_result"
    },
    {
     "data": {
      "image/png": "[encoded data removed]",
      "text/plain": [
       "<Figure size 432x288 with 1 Axes>"
      ]
     },
     "metadata": {
      "needs_background": "light"
     },
     "output_type": "display_data"
    }
   ],
   "source": [
    "model_losses = pd.DataFrame(model.history.history)\n",
    "model_losses.plot()"
   ]
  },
  {
   "cell_type": "code",
   "execution_count": 32,
   "id": "369e88b7",
   "metadata": {},
   "outputs": [
    {
     "data": {
      "text/html": [
       "<div>\n",
       "<style scoped>\n",
       "    .dataframe tbody tr th:only-of-type {\n",
       "        vertical-align: middle;\n",
       "    }\n",
       "\n",
       "    .dataframe tbody tr th {\n",
       "        vertical-align: top;\n",
       "    }\n",
       "\n",
       "    .dataframe thead th {\n",
       "        text-align: right;\n",
       "    }\n",
       "</style>\n",
       "<table border=\"1\" class=\"dataframe\">\n",
       "  <thead>\n",
       "    <tr style=\"text-align: right;\">\n",
       "      <th></th>\n",
       "      <th>Predict</th>\n",
       "      <th>Actual</th>\n",
       "    </tr>\n",
       "  </thead>\n",
       "  <tbody>\n",
       "    <tr>\n",
       "      <th>0</th>\n",
       "      <td>0.752330</td>\n",
       "      <td>0.795699</td>\n",
       "    </tr>\n",
       "    <tr>\n",
       "      <th>1</th>\n",
       "      <td>0.709615</td>\n",
       "      <td>0.634409</td>\n",
       "    </tr>\n",
       "    <tr>\n",
       "      <th>2</th>\n",
       "      <td>0.612408</td>\n",
       "      <td>0.806452</td>\n",
       "    </tr>\n",
       "    <tr>\n",
       "      <th>3</th>\n",
       "      <td>0.729415</td>\n",
       "      <td>0.000000</td>\n",
       "    </tr>\n",
       "    <tr>\n",
       "      <th>4</th>\n",
       "      <td>0.681972</td>\n",
       "      <td>0.634409</td>\n",
       "    </tr>\n",
       "    <tr>\n",
       "      <th>5</th>\n",
       "      <td>0.763685</td>\n",
       "      <td>0.838710</td>\n",
       "    </tr>\n",
       "    <tr>\n",
       "      <th>6</th>\n",
       "      <td>0.713005</td>\n",
       "      <td>0.580645</td>\n",
       "    </tr>\n",
       "    <tr>\n",
       "      <th>7</th>\n",
       "      <td>0.560062</td>\n",
       "      <td>0.526882</td>\n",
       "    </tr>\n",
       "    <tr>\n",
       "      <th>8</th>\n",
       "      <td>0.589114</td>\n",
       "      <td>0.569892</td>\n",
       "    </tr>\n",
       "    <tr>\n",
       "      <th>9</th>\n",
       "      <td>0.773926</td>\n",
       "      <td>0.817204</td>\n",
       "    </tr>\n",
       "  </tbody>\n",
       "</table>\n",
       "</div>"
      ],
      "text/plain": [
       "    Predict    Actual\n",
       "0  0.752330  0.795699\n",
       "1  0.709615  0.634409\n",
       "2  0.612408  0.806452\n",
       "3  0.729415  0.000000\n",
       "4  0.681972  0.634409\n",
       "5  0.763685  0.838710\n",
       "6  0.713005  0.580645\n",
       "7  0.560062  0.526882\n",
       "8  0.589114  0.569892\n",
       "9  0.773926  0.817204"
      ]
     },
     "execution_count": 32,
     "metadata": {},
     "output_type": "execute_result"
    }
   ],
   "source": [
    "predictions = model.predict(x_test)\n",
    "sample = pd.DataFrame(predictions,columns=['Predict'])\n",
    "sample['Actual']=y_test\n",
    "sample.head(10)"
   ]
  },
  {
   "cell_type": "code",
   "execution_count": 33,
   "id": "0bddc0ff",
   "metadata": {},
   "outputs": [
    {
     "data": {
      "text/plain": [
       "0.19798959852506842"
      ]
     },
     "execution_count": 33,
     "metadata": {},
     "output_type": "execute_result"
    }
   ],
   "source": [
    "mean_absolute_error(y_test,predictions)"
   ]
  },
  {
   "cell_type": "code",
   "execution_count": 34,
   "id": "00b5a2f5",
   "metadata": {},
   "outputs": [
    {
     "data": {
      "text/plain": [
       "0.264932064041619"
      ]
     },
     "execution_count": 34,
     "metadata": {},
     "output_type": "execute_result"
    }
   ],
   "source": [
    "np.sqrt(mean_squared_error(y_test,predictions))"
   ]
  },
  {
   "cell_type": "code",
   "execution_count": null,
   "id": "ae12da6e",
   "metadata": {},
   "outputs": [],
   "source": []
  }
 ],
 "metadata": {
  "kernelspec": {
   "display_name": "Python 3 (ipykernel)",
   "language": "python",
   "name": "python3"
  },
  "language_info": {
   "codemirror_mode": {
    "name": "ipython",
    "version": 3
   },
   "file_extension": ".py",
   "mimetype": "text/x-python",
   "name": "python",
   "nbconvert_exporter": "python",
   "pygments_lexer": "ipython3",
   "version": "3.9.7"
  }
 },
 "nbformat": 4,
 "nbformat_minor": 5
}
